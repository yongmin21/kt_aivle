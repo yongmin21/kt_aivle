{
 "cells": [
  {
   "cell_type": "markdown",
   "metadata": {},
   "source": [
    "# Crawling Naver Stock Reports"
   ]
  },
  {
   "cell_type": "code",
   "execution_count": 1,
   "metadata": {},
   "outputs": [],
   "source": [
    "import requests\n",
    "import pandas as pd\n",
    "from bs4 import BeautifulSoup"
   ]
  },
  {
   "cell_type": "code",
   "execution_count": 2,
   "metadata": {},
   "outputs": [],
   "source": [
    "# 1. URL\n",
    "url = 'https://finance.naver.com/research/company_list.naver?&page=1'"
   ]
  },
  {
   "cell_type": "code",
   "execution_count": 3,
   "metadata": {},
   "outputs": [
    {
     "data": {
      "text/plain": [
       "<Response [200]>"
      ]
     },
     "execution_count": 3,
     "metadata": {},
     "output_type": "execute_result"
    }
   ],
   "source": [
    "# 2. Request(URL) > Response(HTML)\n",
    "response = requests.get(url)\n",
    "response"
   ]
  },
  {
   "cell_type": "code",
   "execution_count": 6,
   "metadata": {},
   "outputs": [
    {
     "data": {
      "text/plain": [
       "bs4.BeautifulSoup"
      ]
     },
     "execution_count": 6,
     "metadata": {},
     "output_type": "execute_result"
    }
   ],
   "source": [
    "# 3. HTML > BeautifulSoup > css-selector > DataFrame\n",
    "dom = BeautifulSoup(response.content, 'html.parser')\n",
    "type(dom) # select(), select_one()"
   ]
  },
  {
   "cell_type": "code",
   "execution_count": 25,
   "metadata": {},
   "outputs": [
    {
     "data": {
      "text/plain": [
       "49"
      ]
     },
     "execution_count": 25,
     "metadata": {},
     "output_type": "execute_result"
    }
   ],
   "source": [
    "selector = '#contentarea_left > div.box_type_m > table > tbody > tr:nth-child(3)'\n",
    "selector = 'table.type_1 > tr' # len(elements) = 0 -> 우클릭 후 페이지 소스보기 결과 tbody가 없는듯 (문법상 tbody가 와야하는데 tbody가 빠짐)\n",
    "elements = dom.select(selector)\n",
    "len(elements)"
   ]
  },
  {
   "cell_type": "code",
   "execution_count": 30,
   "metadata": {},
   "outputs": [
    {
     "data": {
      "text/plain": [
       "(6,\n",
       " [<td style=\"padding-left:10\">\n",
       "  <a class=\"stock_item\" href=\"/item/main.naver?code=066570\" title=\"LG전자\">LG전자</a>\n",
       "  </td>,\n",
       "  <td><a href=\"company_read.naver?nid=77126&amp;page=1\">AI데이터센터 냉각 시장 공략</a><img alt=\"NEW\" class=\"ico_new\" height=\"8\" src=\"https://ssl.pstatic.net/imgstock/images5/ico_research_new.gif\" width=\"8\"/></td>,\n",
       "  <td>교보증권</td>,\n",
       "  <td class=\"file\"><a href=\"https://stock.pstatic.net/stock-research/company/34/20240923_company_481199000.pdf\" target=\"_blank\"><img align=\"absmiddle\" alt=\"pdf\" src=\"https://ssl.pstatic.net/imgstock/images5/down.gif\"/></a></td>,\n",
       "  <td class=\"date\" style=\"padding-left:5px\">24.09.23</td>,\n",
       "  <td class=\"date\">218</td>])"
      ]
     },
     "execution_count": 30,
     "metadata": {},
     "output_type": "execute_result"
    }
   ],
   "source": [
    "element = elements[2]\n",
    "tag = element.select('td')\n",
    "len(tag), tag"
   ]
  },
  {
   "cell_type": "code",
   "execution_count": 40,
   "metadata": {},
   "outputs": [
    {
     "data": {
      "text/plain": [
       "{'stock_name': 'LG전자',\n",
       " 'stock_link': '/item/main.naver?code=066570',\n",
       " 'title': 'AI데이터센터 냉각 시장 공략',\n",
       " 'title_link': 'company_read.naver?nid=77126&page=1',\n",
       " 'writer': '교보증권',\n",
       " 'pdf_link': 'https://stock.pstatic.net/stock-research/company/34/20240923_company_481199000.pdf',\n",
       " 'date': '24.09.23',\n",
       " 'pv': '218'}"
      ]
     },
     "execution_count": 40,
     "metadata": {},
     "output_type": "execute_result"
    }
   ],
   "source": [
    "data = {}\n",
    "data['stock_name'] = tag[0].select_one('a').text\n",
    "data['stock_link'] = tag[0].select_one('a').get('href')\n",
    "data['title'] = tag[1].select_one('a').text\n",
    "data['title_link'] = tag[1].select_one('a').get('href')\n",
    "data['writer'] = tag[2].text\n",
    "data['pdf_link'] = tag[3].select_one('a').get('href')\n",
    "data['date'] = tag[4].text\n",
    "data['pv'] = tag[5].text\n",
    "\n",
    "data"
   ]
  },
  {
   "cell_type": "code",
   "execution_count": 49,
   "metadata": {},
   "outputs": [],
   "source": [
    "rows = []\n",
    "for idx, element in enumerate(elements):\n",
    "    \n",
    "    tag = element.select('td')\n",
    "    #print(idx, len(tag))\n",
    "    \n",
    "    if len(tag) == 6:    \n",
    "        data = {}\n",
    "        data['stock_name'] = tag[0].select_one('a').text\n",
    "        data['stock_link'] = tag[0].select_one('a').get('href')\n",
    "        data['title'] = tag[1].select_one('a').text\n",
    "        data['title_link'] = tag[1].select_one('a').get('href')\n",
    "        data['writer'] = tag[2].text\n",
    "        data['pdf_link'] = tag[3].select_one('a').get('href')\n",
    "        data['date'] = tag[4].text\n",
    "        data['pv'] = tag[5].text\n",
    "        \n",
    "        rows.append(data)\n"
   ]
  },
  {
   "cell_type": "code",
   "execution_count": 52,
   "metadata": {},
   "outputs": [
    {
     "data": {
      "text/html": [
       "<div>\n",
       "<style scoped>\n",
       "    .dataframe tbody tr th:only-of-type {\n",
       "        vertical-align: middle;\n",
       "    }\n",
       "\n",
       "    .dataframe tbody tr th {\n",
       "        vertical-align: top;\n",
       "    }\n",
       "\n",
       "    .dataframe thead th {\n",
       "        text-align: right;\n",
       "    }\n",
       "</style>\n",
       "<table border=\"1\" class=\"dataframe\">\n",
       "  <thead>\n",
       "    <tr style=\"text-align: right;\">\n",
       "      <th></th>\n",
       "      <th>stock_name</th>\n",
       "      <th>stock_link</th>\n",
       "      <th>title</th>\n",
       "      <th>title_link</th>\n",
       "      <th>writer</th>\n",
       "      <th>pdf_link</th>\n",
       "      <th>date</th>\n",
       "      <th>pv</th>\n",
       "    </tr>\n",
       "  </thead>\n",
       "  <tbody>\n",
       "    <tr>\n",
       "      <th>28</th>\n",
       "      <td>동국S&amp;C</td>\n",
       "      <td>/item/main.naver?code=100130</td>\n",
       "      <td>금리 하락으로 미국에서 훈풍이 불어온다</td>\n",
       "      <td>company_read.naver?nid=77098&amp;page=1</td>\n",
       "      <td>iM증권</td>\n",
       "      <td>https://stock.pstatic.net/stock-research/compa...</td>\n",
       "      <td>24.09.19</td>\n",
       "      <td>1501</td>\n",
       "    </tr>\n",
       "    <tr>\n",
       "      <th>29</th>\n",
       "      <td>SOOP</td>\n",
       "      <td>/item/main.naver?code=067160</td>\n",
       "      <td>경쟁사 스트리머 이적, 트래픽 유입 기대</td>\n",
       "      <td>company_read.naver?nid=77097&amp;page=1</td>\n",
       "      <td>신한투자증권</td>\n",
       "      <td>https://stock.pstatic.net/stock-research/compa...</td>\n",
       "      <td>24.09.19</td>\n",
       "      <td>1455</td>\n",
       "    </tr>\n",
       "  </tbody>\n",
       "</table>\n",
       "</div>"
      ],
      "text/plain": [
       "   stock_name                    stock_link                   title  \\\n",
       "28      동국S&C  /item/main.naver?code=100130   금리 하락으로 미국에서 훈풍이 불어온다   \n",
       "29       SOOP  /item/main.naver?code=067160  경쟁사 스트리머 이적, 트래픽 유입 기대   \n",
       "\n",
       "                             title_link  writer  \\\n",
       "28  company_read.naver?nid=77098&page=1    iM증권   \n",
       "29  company_read.naver?nid=77097&page=1  신한투자증권   \n",
       "\n",
       "                                             pdf_link      date    pv  \n",
       "28  https://stock.pstatic.net/stock-research/compa...  24.09.19  1501  \n",
       "29  https://stock.pstatic.net/stock-research/compa...  24.09.19  1455  "
      ]
     },
     "execution_count": 52,
     "metadata": {},
     "output_type": "execute_result"
    }
   ],
   "source": [
    "df = pd.DataFrame(rows)\n",
    "df.tail(2)"
   ]
  },
  {
   "cell_type": "code",
   "execution_count": 53,
   "metadata": {},
   "outputs": [],
   "source": [
    "# file download"
   ]
  },
  {
   "cell_type": "code",
   "execution_count": 56,
   "metadata": {},
   "outputs": [
    {
     "data": {
      "text/plain": [
       "['08_gmarket.ipynb',\n",
       " '08_naver_stock_report.ipynb',\n",
       " '09_selenium.ipynb',\n",
       " '10_xpath.ipynb',\n",
       " '11_iterator_generator.ipynb',\n",
       " '12_scrapy.ipynb']"
      ]
     },
     "execution_count": 56,
     "metadata": {},
     "output_type": "execute_result"
    }
   ],
   "source": [
    "# os package : 파일 시스템 관리\n",
    "import os\n",
    "# 파일목록 출력\n",
    "os.listdir()"
   ]
  },
  {
   "cell_type": "code",
   "execution_count": 57,
   "metadata": {},
   "outputs": [
    {
     "data": {
      "text/plain": [
       "False"
      ]
     },
     "execution_count": 57,
     "metadata": {},
     "output_type": "execute_result"
    }
   ],
   "source": [
    "path = 'reports'\n",
    "# 디렉토리, 파일 존재 여부 확인\n",
    "os.path.exists(path)"
   ]
  },
  {
   "cell_type": "code",
   "execution_count": 58,
   "metadata": {},
   "outputs": [
    {
     "data": {
      "text/plain": [
       "['08_gmarket.ipynb',\n",
       " '08_naver_stock_report.ipynb',\n",
       " '09_selenium.ipynb',\n",
       " '10_xpath.ipynb',\n",
       " '11_iterator_generator.ipynb',\n",
       " '12_scrapy.ipynb',\n",
       " 'reports']"
      ]
     },
     "execution_count": 58,
     "metadata": {},
     "output_type": "execute_result"
    }
   ],
   "source": [
    "if not os.path.exists(path): # 디렉토리가 없으면 True\n",
    "    os.makedirs(path)\n",
    "    \n",
    "os.listdir()"
   ]
  },
  {
   "cell_type": "code",
   "execution_count": 63,
   "metadata": {},
   "outputs": [
    {
     "data": {
      "text/plain": [
       "('AI데이터센터 냉각 시장 공략',\n",
       " 'https://stock.pstatic.net/stock-research/company/34/20240923_company_481199000.pdf')"
      ]
     },
     "execution_count": 63,
     "metadata": {},
     "output_type": "execute_result"
    }
   ],
   "source": [
    "# 1. url\n",
    "title = df.loc[0,'title']\n",
    "pdf_link = df.loc[0,'pdf_link']\n",
    "title, pdf_link"
   ]
  },
  {
   "cell_type": "code",
   "execution_count": 65,
   "metadata": {},
   "outputs": [
    {
     "data": {
      "text/plain": [
       "<Response [200]>"
      ]
     },
     "execution_count": 65,
     "metadata": {},
     "output_type": "execute_result"
    }
   ],
   "source": [
    "# 2. request(url) > response(pdf)\n",
    "response = requests.get(pdf_link)\n",
    "response"
   ]
  },
  {
   "cell_type": "code",
   "execution_count": 67,
   "metadata": {},
   "outputs": [
    {
     "name": "stdout",
     "output_type": "stream",
     "text": [
      "reports/AI데이터센터 냉각 시장 공략.pdf\n"
     ]
    }
   ],
   "source": [
    "# 3. pdf > save(reports)\n",
    "filename = f'{path}/{title}.pdf'\n",
    "print(filename)\n",
    "\n",
    "# wb : write binary, wt : write text\n",
    "with open(filename, 'wb') as file:\n",
    "    file.write(response.content)"
   ]
  },
  {
   "cell_type": "code",
   "execution_count": null,
   "metadata": {},
   "outputs": [],
   "source": [
    "# pickle : RAM > SSD : SSD > RAM"
   ]
  },
  {
   "cell_type": "code",
   "execution_count": 68,
   "metadata": {},
   "outputs": [
    {
     "data": {
      "text/plain": [
       "['AI데이터센터 냉각 시장 공략.pdf']"
      ]
     },
     "execution_count": 68,
     "metadata": {},
     "output_type": "execute_result"
    }
   ],
   "source": [
    "os.listdir('reports')"
   ]
  },
  {
   "cell_type": "code",
   "execution_count": 72,
   "metadata": {},
   "outputs": [],
   "source": [
    "import shutil\n",
    "path = 'reports'\n",
    "#shutil.rmtree(path) # 폴더 삭제\n",
    "#os.path.exists(path)\n",
    "os.makedirs(path)"
   ]
  },
  {
   "cell_type": "code",
   "execution_count": 74,
   "metadata": {},
   "outputs": [
    {
     "name": "stdout",
     "output_type": "stream",
     "text": [
      "0 AI데이터센터 냉각 시장 공략 https://stock.pstatic.net/stock-research/company/34/20240923_company_481199000.pdf\n",
      "1 설계와 시공능력으로 액침냉각 사업 확대 https://stock.pstatic.net/stock-research/company/34/20240923_company_279682000.pdf\n",
      "2 액침냉각, 기술적 강점을 확보해 나가는 중 https://stock.pstatic.net/stock-research/company/62/20240923_company_647832000.pdf\n",
      "3 3Q24 Preview: 국내 수주 강세 VS 중국 부진 .. https://stock.pstatic.net/stock-research/company/57/20240923_company_621805000.pdf\n",
      "4 Re-rating 구간 돌입 https://stock.pstatic.net/stock-research/company/63/20240923_company_747255000.pdf\n",
      "5 높아지는 Peak sales https://stock.pstatic.net/stock-research/company/29/20240923_company_582032000.pdf\n",
      "6 Metsera, 너는 계획이 다 있구나 https://stock.pstatic.net/stock-research/company/39/20240923_company_387902000.pdf\n",
      "7 의대 열풍, 나만 믿어 https://stock.pstatic.net/stock-research/company/21/20240923_company_352867000.pdf\n",
      "8 속도가 느려도, 방향성은 맞다 https://stock.pstatic.net/stock-research/company/39/20240923_company_584932000.pdf\n",
      "9 빅파마들의 RPT 방향, 우리도 간다 https://stock.pstatic.net/stock-research/company/29/20240920_company_395376000.pdf\n",
      "10 코스닥 방사성의약품 기업으로 진입  https://stock.pstatic.net/stock-research/company/29/20240920_company_183023000.pdf\n",
      "11 롯데렌탈의 쏘카 지분 추가취득 당분간 중단 https://stock.pstatic.net/stock-research/company/57/20240920_company_178894000.pdf\n",
      "12 길어지고 있는 기다림 https://stock.pstatic.net/stock-research/company/18/20240920_company_753861000.pdf\n",
      "13 2024년 3분기 부진 터널 통과해야! https://stock.pstatic.net/stock-research/company/18/20240920_company_57258000.pdf\n",
      "14 이튼의 견고한 성장 파트너 https://stock.pstatic.net/stock-research/company/18/20240920_company_34889000.pdf\n",
      "15 엘사 https://stock.pstatic.net/stock-research/company/29/20240920_company_281135000.pdf\n",
      "16 Moment of Truth https://stock.pstatic.net/stock-research/company/21/20240920_company_358074000.pdf\n",
      "17 확대되는 TROP2 ADC 치료제 시장 https://stock.pstatic.net/stock-research/company/63/20240920_company_241527000.pdf\n",
      "18 엔지니어링 플라스틱 소재 개발 및 고도화로 .. https://stock.pstatic.net/stock-research/company/72/20240920_company_938658000.pdf\n",
      "19 경쟁력 있는 CDMO, 여기에도 있다 https://stock.pstatic.net/stock-research/company/66/20240919_company_564633000.pdf\n",
      "20 환율 모멘텀 발생 예상. 자사주 추가 매입 가.. https://stock.pstatic.net/stock-research/company/57/20240919_company_316925000.pdf\n",
      "21 가치가 높아지는 F박스와 K패션 해외 진출 수.. https://stock.pstatic.net/stock-research/company/16/20240919_company_108073000.pdf\n",
      "22 경증 아토피 치료의 글로벌  시장 판도를 바.. https://stock.pstatic.net/stock-research/company/2/20240919_company_999118000.pdf\n",
      "23 3분기는 비수기, 그러나   주주 가치 환원에 .. https://stock.pstatic.net/stock-research/company/2/20240919_company_792011000.pdf\n",
      "24 3Q24 일시적인 실적 둔화,  분위기 반전이 필.. https://stock.pstatic.net/stock-research/company/2/20240919_company_398898000.pdf\n",
      "25 지속가능한 성장 https://stock.pstatic.net/stock-research/company/63/20240919_company_57035000.pdf\n",
      "26 미국 타워 판가도 인상 https://stock.pstatic.net/stock-research/company/63/20240919_company_131970000.pdf\n",
      "27 콥데이 후기: 8.6G OLED 투자 본격화 수혜 기.. https://stock.pstatic.net/stock-research/company/63/20240919_company_584893000.pdf\n",
      "28 금리 하락으로 미국에서 훈풍이 불어온다 https://stock.pstatic.net/stock-research/company/61/20240919_company_401972000.pdf\n",
      "29 경쟁사 스트리머 이적, 트래픽 유입 기대 https://stock.pstatic.net/stock-research/company/21/20240919_company_26810000.pdf\n"
     ]
    }
   ],
   "source": [
    "for idx, row in df.iterrows():\n",
    "    print(idx, end=' ')\n",
    "    title, pdf_link = row['title'], row['pdf_link']\n",
    "    \n",
    "    response = requests.get(pdf_link)\n",
    "    filename = f'{path}/{title}.pdf'\n",
    "\n",
    "    # with open(filename, 'wb') as file:\n",
    "    #     file.write(response.content)\n",
    "    # 저장 안하려고 주석 처리함."
   ]
  },
  {
   "cell_type": "code",
   "execution_count": null,
   "metadata": {},
   "outputs": [],
   "source": [
    "# tika(java) : pdf > text"
   ]
  },
  {
   "cell_type": "code",
   "execution_count": null,
   "metadata": {},
   "outputs": [],
   "source": []
  },
  {
   "cell_type": "code",
   "execution_count": null,
   "metadata": {},
   "outputs": [],
   "source": []
  },
  {
   "cell_type": "code",
   "execution_count": null,
   "metadata": {},
   "outputs": [],
   "source": []
  }
 ],
 "metadata": {
  "kernelspec": {
   "display_name": "base",
   "language": "python",
   "name": "python3"
  },
  "language_info": {
   "codemirror_mode": {
    "name": "ipython",
    "version": 3
   },
   "file_extension": ".py",
   "mimetype": "text/x-python",
   "name": "python",
   "nbconvert_exporter": "python",
   "pygments_lexer": "ipython3",
   "version": "3.12.4"
  }
 },
 "nbformat": 4,
 "nbformat_minor": 2
}
