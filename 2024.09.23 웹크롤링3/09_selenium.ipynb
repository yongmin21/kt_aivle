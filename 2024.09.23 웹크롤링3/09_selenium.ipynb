{
 "cells": [
  {
   "cell_type": "markdown",
   "id": "03fff3b4",
   "metadata": {},
   "source": [
    "### selenium\n",
    "- `https://www.selenium.dev`\n",
    "- 자동화를 목적으로 만들어진 다양한 브라우져와 언어를 지원하는 라이브러리\n",
    "- 크롬 브라우져 설치\n",
    "    - 크롬 브라우져 드라이버 다운로드 (크롬 브라우져와 같은 버전)\n",
    "    - 다운로드한 드라이버 압축 해제\n",
    "    - chromedriver, chromedriver.exe 생성\n",
    "    - windows : 주피터 노트북 파일과 동일한 디렉토리에 chromedriver.exe 파일 업로드\n",
    "    - mac : sudo cp ~/Download/chromedirver /usr/local/bin"
   ]
  },
  {
   "cell_type": "code",
   "execution_count": 1,
   "id": "a6e6bc99",
   "metadata": {},
   "outputs": [],
   "source": [
    "# !pip install selenium --quiet\n",
    "# 129version - chrome"
   ]
  },
  {
   "cell_type": "code",
   "execution_count": 2,
   "id": "c011b5fb",
   "metadata": {},
   "outputs": [],
   "source": [
    "#https://storage.googleapis.com/chrome-for-testing-public/129.0.6668.58/win64/chromedriver-win64.zip"
   ]
  },
  {
   "cell_type": "code",
   "execution_count": 3,
   "id": "8192261a",
   "metadata": {},
   "outputs": [],
   "source": [
    "import pandas as pd\n",
    "from selenium import webdriver\n",
    "from selenium.webdriver.common.by import By"
   ]
  },
  {
   "cell_type": "code",
   "execution_count": 6,
   "id": "03d2ed65",
   "metadata": {},
   "outputs": [],
   "source": [
    "driver = webdriver.Chrome()"
   ]
  },
  {
   "cell_type": "code",
   "execution_count": 7,
   "id": "b98c2f78",
   "metadata": {},
   "outputs": [],
   "source": [
    "# 페이지 이동\n",
    "driver.get('https://daum.net')"
   ]
  },
  {
   "cell_type": "code",
   "execution_count": 8,
   "id": "e0436337",
   "metadata": {},
   "outputs": [],
   "source": [
    "# 브라우저 사이즈 조절\n",
    "driver.set_window_size(200, 600)"
   ]
  },
  {
   "cell_type": "code",
   "execution_count": 10,
   "id": "4667db6e",
   "metadata": {},
   "outputs": [],
   "source": [
    "# 자바스크립트 코드 실행\n",
    "driver.execute_script('alert(\"Hello selenium!\");')"
   ]
  },
  {
   "cell_type": "code",
   "execution_count": 11,
   "id": "64c9dab6",
   "metadata": {},
   "outputs": [],
   "source": [
    "# alert 종료\n",
    "alert = driver.switch_to.alert\n",
    "alert.accept()"
   ]
  },
  {
   "cell_type": "code",
   "execution_count": 13,
   "id": "a2a6103e",
   "metadata": {},
   "outputs": [],
   "source": [
    "# 검색어 입력 후 검색 버튼 클릭 #q (id css-selector)\n",
    "driver.find_element(By.CSS_SELECTOR, '#q').send_keys('엄랭')"
   ]
  },
  {
   "cell_type": "code",
   "execution_count": 16,
   "id": "addf66d6",
   "metadata": {},
   "outputs": [],
   "source": [
    "# 검색 버튼 클릭\n",
    "driver.find_element(By.CSS_SELECTOR, '.btn_ksearch').click()"
   ]
  },
  {
   "cell_type": "code",
   "execution_count": 17,
   "id": "5db9836c",
   "metadata": {},
   "outputs": [],
   "source": [
    "# 브라우저 종료 : 자원(RAM)반환\n",
    "driver.quit()"
   ]
  },
  {
   "cell_type": "markdown",
   "id": "c4c13a78",
   "metadata": {},
   "source": [
    "#### 텍스트 데이터 가져오기\n",
    "- TED 사이트 : `https://www.ted.com`"
   ]
  },
  {
   "cell_type": "code",
   "execution_count": 20,
   "id": "6fb9ce1c",
   "metadata": {},
   "outputs": [],
   "source": [
    "import time"
   ]
  },
  {
   "cell_type": "code",
   "execution_count": 18,
   "id": "39e30c91",
   "metadata": {},
   "outputs": [],
   "source": [
    "driver = webdriver.Chrome()\n",
    "driver.get('https://www.ted.com/talks')"
   ]
  },
  {
   "cell_type": "code",
   "execution_count": 19,
   "id": "ea2de5d8",
   "metadata": {},
   "outputs": [],
   "source": [
    "# 팝업창 닫기\n",
    "time.sleep(1) # 로딩이 완전이 될 때까지 기다렸다가 다음 작업을 수행하기 위함.\n",
    "driver.find_element(By.CSS_SELECTOR, '#close-pc-btn-handler').click()"
   ]
  },
  {
   "cell_type": "code",
   "execution_count": 22,
   "id": "32812945",
   "metadata": {},
   "outputs": [
    {
     "data": {
      "text/plain": [
       "'TED Talks: Discover ideas worth spreading'"
      ]
     },
     "execution_count": 22,
     "metadata": {},
     "output_type": "execute_result"
    }
   ],
   "source": [
    "driver.find_element(By.CSS_SELECTOR, 'h2.text-textPrimary-onLight').text"
   ]
  },
  {
   "cell_type": "code",
   "execution_count": 23,
   "id": "32e3c178",
   "metadata": {},
   "outputs": [],
   "source": [
    "driver.quit()"
   ]
  },
  {
   "cell_type": "markdown",
   "id": "152eda00",
   "metadata": {},
   "source": [
    "#### Headless\n",
    "- 브라우져를 화면에 띄우지 않고 메모리상에서만 올려서 크롤링하는 방법 \n",
    "- window가 지원되지 않는 환경에서 사용이 가능\n",
    "- chrome version 60.0.0.0 이상부터 지원 합니다."
   ]
  },
  {
   "cell_type": "code",
   "execution_count": 24,
   "id": "ec5daf36",
   "metadata": {},
   "outputs": [
    {
     "name": "stdout",
     "output_type": "stream",
     "text": [
      "TED Talks: Discover ideas worth spreading\n"
     ]
    }
   ],
   "source": [
    "options = webdriver.ChromeOptions()\n",
    "options.add_argument('headless')\n",
    "driver = webdriver.Chrome(options=options) # 서버에서는 보통 Headless로 데이터 수집\n",
    "\n",
    "driver.get('https://www.ted.com/talks')\n",
    "# 팝업창 닫기\n",
    "time.sleep(1) # 로딩이 완전이 될 때까지 기다렸다가 다음 작업을 수행하기 위함.\n",
    "driver.find_element(By.CSS_SELECTOR, '#close-pc-btn-handler').click()\n",
    "text = driver.find_element(By.CSS_SELECTOR, 'h2.text-textPrimary-onLight').text\n",
    "print(text)\n",
    "driver.quit()"
   ]
  },
  {
   "cell_type": "code",
   "execution_count": null,
   "id": "0a6dc7aa",
   "metadata": {},
   "outputs": [],
   "source": []
  }
 ],
 "metadata": {
  "kernelspec": {
   "display_name": "Python 3 (ipykernel)",
   "language": "python",
   "name": "python3"
  },
  "language_info": {
   "codemirror_mode": {
    "name": "ipython",
    "version": 3
   },
   "file_extension": ".py",
   "mimetype": "text/x-python",
   "name": "python",
   "nbconvert_exporter": "python",
   "pygments_lexer": "ipython3",
   "version": "3.12.4"
  },
  "toc": {
   "base_numbering": 1,
   "nav_menu": {},
   "number_sections": false,
   "sideBar": true,
   "skip_h1_title": false,
   "title_cell": "Table of Contents",
   "title_sidebar": "Contents",
   "toc_cell": false,
   "toc_position": {},
   "toc_section_display": true,
   "toc_window_display": false
  }
 },
 "nbformat": 4,
 "nbformat_minor": 5
}
