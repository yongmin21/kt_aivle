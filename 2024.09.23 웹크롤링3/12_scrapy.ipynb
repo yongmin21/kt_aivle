{
 "cells": [
  {
   "cell_type": "markdown",
   "id": "b12537ef",
   "metadata": {
    "id": "b12537ef"
   },
   "source": [
    "# Scrapy\n",
    "- 웹사이트에서 데이터 수집을 위한 오픈소스 파이썬 프레임워크\n",
    "- 멀티스레딩으로 데이터 수집\n",
    "- daum 뉴스데이터 수집"
   ]
  },
  {
   "cell_type": "code",
   "execution_count": 2,
   "id": "c8df8471",
   "metadata": {
    "id": "c8df8471",
    "tags": []
   },
   "outputs": [],
   "source": [
    "# install scrapy\n",
    "!pip install scrapy --quiet"
   ]
  },
  {
   "cell_type": "code",
   "execution_count": 3,
   "id": "ecf9f5af-145d-428e-9840-ee627b1db8d3",
   "metadata": {},
   "outputs": [],
   "source": [
    "import scrapy\n",
    "import requests\n",
    "from scrapy.http import TextResponse"
   ]
  },
  {
   "cell_type": "markdown",
   "id": "c0332cd8-37a0-4f19-9a84-e64a565827d6",
   "metadata": {
    "id": "e90ab90f"
   },
   "source": [
    "## 1. make project"
   ]
  },
  {
   "cell_type": "code",
   "execution_count": 4,
   "id": "b8f2a0f8",
   "metadata": {},
   "outputs": [
    {
     "name": "stdout",
     "output_type": "stream",
     "text": [
      "New Scrapy project 'news', using template directory 'C:\\Users\\User\\anaconda3\\Lib\\site-packages\\scrapy\\templates\\project', created in:\n",
      "    C:\\Users\\User\\Desktop\\kt_aivle\\2024.09.23 웹크롤링3\\news\n",
      "\n",
      "You can start your first spider with:\n",
      "    cd news\n",
      "    scrapy genspider example example.com\n"
     ]
    }
   ],
   "source": [
    "!scrapy startproject news"
   ]
  },
  {
   "cell_type": "code",
   "execution_count": 7,
   "id": "7e2fa5b9",
   "metadata": {},
   "outputs": [
    {
     "name": "stdout",
     "output_type": "stream",
     "text": [
      "���� PATH�� ����Դϴ�.\n",
      "���� �Ϸ� ��ȣ�� 385B-BB36�Դϴ�.\n",
      "C:\\USERS\\USER\\DESKTOP\\KT_AIVLE\\2024.09.23 ��ũ�Ѹ�3\\NEWS\n",
      "��  scrapy.cfg\n",
      "��  \n",
      "����news\n",
      "    ��  items.py\n",
      "    ��  middlewares.py\n",
      "    ��  pipelines.py\n",
      "    ��  settings.py\n",
      "    ��  __init__.py\n",
      "    ��  \n",
      "    ����spiders\n",
      "            __init__.py\n",
      "            \n"
     ]
    }
   ],
   "source": [
    "!tree news /F"
   ]
  },
  {
   "cell_type": "markdown",
   "id": "3ab608ad-302a-44bf-8f41-75fe6ff61be7",
   "metadata": {
    "id": "cac6776b",
    "tags": []
   },
   "source": [
    "- scrapy structure\n",
    "    - items : 데이터의 모양 정의\n",
    "    - middewares : 수집할때 header 정보와 같은 내용을 설정 (ex. useragent 등)\n",
    "    - pipelines : 데이터를 수집한 후에 코드를 실행\n",
    "    - settings : robots.txt 규칙, 크롤링 시간 텀등을 설정 (크롤링 정책을 준수할지 말지)\n",
    "    - spiders : 크롤링 절차를 정의"
   ]
  },
  {
   "cell_type": "markdown",
   "id": "8f2c2301-9562-46fe-aece-481dd73b88c9",
   "metadata": {
    "id": "5f97e6dc",
    "tags": []
   },
   "source": [
    "## 2. xpath\n",
    "- link, contents\n",
    "\n",
    "### xpath\n",
    "- html element 선택하는 방법\n",
    "- scrapy 에서는 기본적으로 xpath를 사용\n",
    "- syntax\n",
    "    - // : 최상위 엘리먼트\n",
    "    - \\* : 모든 하위 엘리먼트 : css selector의 한칸띄우기와 같다.\n",
    "    - [@id=\"value\"] : 속성값 선택\n",
    "    - / : 한단계 하위 엘리먼트 : css selector의 >와 같다.\n",
    "    - [n] : nth-child(n)"
   ]
  },
  {
   "cell_type": "code",
   "execution_count": 10,
   "id": "9042e5d9",
   "metadata": {},
   "outputs": [
    {
     "data": {
      "text/plain": [
       "(<200 https://news.daum.net/>, scrapy.http.response.text.TextResponse)"
      ]
     },
     "execution_count": 10,
     "metadata": {},
     "output_type": "execute_result"
    }
   ],
   "source": [
    "url = 'https://news.daum.net'\n",
    "response = requests.get(url)\n",
    "response = TextResponse(response.url, body=response.text, encoding='utf-8') # TextResponse는 BeautifulSoup의 일종이라고 생각할 수 있다.\n",
    "response, type(response)"
   ]
  },
  {
   "cell_type": "code",
   "execution_count": 17,
   "id": "3aac82cb",
   "metadata": {
    "id": "3aac82cb",
    "tags": []
   },
   "outputs": [
    {
     "data": {
      "text/plain": [
       "(20,\n",
       " ['https://v.daum.net/v/20240923151053270',\n",
       "  'https://v.daum.net/v/20240923150750118',\n",
       "  'https://v.daum.net/v/20240923145528413',\n",
       "  'https://v.daum.net/v/20240923144454810',\n",
       "  'https://v.daum.net/v/20240923135809940'])"
      ]
     },
     "execution_count": 17,
     "metadata": {},
     "output_type": "execute_result"
    }
   ],
   "source": [
    "selector = \"/html/body/div[2]/main/section/div/div[1]/div[1]/ul/li/div/div/strong/a/@href\"\n",
    "links = response.xpath(selector).extract() #extract - 값들만 추출\n",
    "len(links), links[:5]"
   ]
  },
  {
   "cell_type": "code",
   "execution_count": 18,
   "id": "bcd06774",
   "metadata": {},
   "outputs": [
    {
     "data": {
      "text/plain": [
       "<200 https://v.daum.net/v/20240923151053270>"
      ]
     },
     "execution_count": 18,
     "metadata": {},
     "output_type": "execute_result"
    }
   ],
   "source": [
    "link = links[0]\n",
    "response = requests.get(link)\n",
    "response = TextResponse(response.url, body=response.text, encoding='utf-8') # 위 각각 기사 링크에 접근\n",
    "response"
   ]
  },
  {
   "cell_type": "code",
   "execution_count": 21,
   "id": "ff4668f9",
   "metadata": {},
   "outputs": [
    {
     "data": {
      "text/plain": [
       "\"전국 주택 2가구 중 1가구 이상은 '준공 20년 이상'\""
      ]
     },
     "execution_count": 21,
     "metadata": {},
     "output_type": "execute_result"
    }
   ],
   "source": [
    "title = response.xpath('//*[@id=\"mArticle\"]/div[1]/h3/text()')[0].extract()\n",
    "title"
   ]
  },
  {
   "cell_type": "markdown",
   "id": "a66594e9-822f-412b-b6ac-5e6d192d943a",
   "metadata": {},
   "source": [
    "## 3. items.py\n",
    "- Data Model"
   ]
  },
  {
   "cell_type": "code",
   "execution_count": 28,
   "id": "da0a8805-28ee-4deb-9281-ecc84b0b68bb",
   "metadata": {},
   "outputs": [],
   "source": [
    "# %load news/news/items.py"
   ]
  },
  {
   "cell_type": "code",
   "execution_count": 27,
   "id": "4a49c6c2",
   "metadata": {},
   "outputs": [
    {
     "name": "stdout",
     "output_type": "stream",
     "text": [
      "Overwriting news/news/items.py\n"
     ]
    }
   ],
   "source": [
    "%%writefile news/news/items.py\n",
    "\n",
    "import scrapy\n",
    "\n",
    "\n",
    "class NewsItem(scrapy.Item):\n",
    "    # define the fields for your item here like:\n",
    "    # name = scrapy.Field()\n",
    "    title = scrapy.Field()\n",
    "    link = scrapy.Field()"
   ]
  },
  {
   "cell_type": "markdown",
   "id": "9a36c20c-a58d-4f60-8ed4-b13178e174d7",
   "metadata": {
    "id": "4d0aa7e1",
    "tags": []
   },
   "source": [
    "## 4. spider.py\n",
    "- wirte crawling process"
   ]
  },
  {
   "cell_type": "code",
   "execution_count": 30,
   "id": "cdb3e0db-4ff6-4ec7-aa24-b8ae37feff18",
   "metadata": {},
   "outputs": [
    {
     "name": "stdout",
     "output_type": "stream",
     "text": [
      "Overwriting news/news/spiders/spider.py\n"
     ]
    }
   ],
   "source": [
    "%%writefile news/news/spiders/spider.py\n",
    "\n",
    "import scrapy\n",
    "from news.items import NewsItem\n",
    "\n",
    "class NewsSpider(scrapy.Spider):\n",
    "    name = 'news'\n",
    "    allow_domain = ['daum.net']\n",
    "    start_urls = ['https://news.daum.net']\n",
    "    \n",
    "    # def start_requests(self):\n",
    "    #     urls = [\n",
    "    #         \"https://quotes.toscrape.com/page/1/\",\n",
    "    #         \"https://quotes.toscrape.com/page/2/\",\n",
    "    #     ]\n",
    "    #     for url in urls:\n",
    "    #         yield scrapy.Request(url=url, callback=self.parse)\n",
    "    \n",
    "    def parse(self, response):\n",
    "        # requests는 이미 scrapy.Spider 안에 있음.\n",
    "        selector = \"/html/body/div[2]/main/section/div/div[1]/div[1]/ul/li/div/div/strong/a/@href\"\n",
    "        links = response.xpath(selector).extract() #extract - 값들만 추출\n",
    "\n",
    "        for link in links:\n",
    "            yield scrapy.Request(link, callback=self.parse_content)\n",
    "            \n",
    "    def parse_content(self, response):\n",
    "        item = NewsItem()\n",
    "        item['link'] = response.url\n",
    "        item['title'] = response.xpath('//*[@id=\"mArticle\"]/div[1]/h3/text()')[0].extract()\n",
    "        yield item"
   ]
  },
  {
   "cell_type": "markdown",
   "id": "f62d4d2e-1978-4d8c-ac50-0ca52803c670",
   "metadata": {
    "id": "bd2e1c16",
    "tags": []
   },
   "source": [
    "## 5. run scrapy\n",
    "- news 디렉토리에서 아래의 커멘드 실행\n",
    "- scrapy crawl news -o news.csv"
   ]
  },
  {
   "cell_type": "code",
   "execution_count": 33,
   "id": "8811644a-184c-46f7-b2f3-ceda17dac532",
   "metadata": {},
   "outputs": [
    {
     "name": "stderr",
     "output_type": "stream",
     "text": [
      "UsageError: Line magic function `%scrapy` not found.\n"
     ]
    }
   ],
   "source": [
    "# !scrapy crawl news -o news.csv"
   ]
  },
  {
   "cell_type": "code",
   "execution_count": 34,
   "id": "d13f9a66",
   "metadata": {},
   "outputs": [
    {
     "data": {
      "text/plain": [
       "'c:\\\\Users\\\\User\\\\Desktop\\\\kt_aivle\\\\2024.09.23 웹크롤링3'"
      ]
     },
     "execution_count": 34,
     "metadata": {},
     "output_type": "execute_result"
    }
   ],
   "source": [
    "%pwd"
   ]
  },
  {
   "cell_type": "code",
   "execution_count": null,
   "id": "82152822",
   "metadata": {},
   "outputs": [],
   "source": []
  }
 ],
 "metadata": {
  "colab": {
   "name": "04_scrapy.ipynb",
   "provenance": []
  },
  "kernelspec": {
   "display_name": "Python 3 (ipykernel)",
   "language": "python",
   "name": "python3"
  },
  "language_info": {
   "codemirror_mode": {
    "name": "ipython",
    "version": 3
   },
   "file_extension": ".py",
   "mimetype": "text/x-python",
   "name": "python",
   "nbconvert_exporter": "python",
   "pygments_lexer": "ipython3",
   "version": "3.12.4"
  },
  "toc": {
   "base_numbering": 1,
   "nav_menu": {},
   "number_sections": false,
   "sideBar": true,
   "skip_h1_title": false,
   "title_cell": "Table of Contents",
   "title_sidebar": "Contents",
   "toc_cell": false,
   "toc_position": {},
   "toc_section_display": true,
   "toc_window_display": false
  }
 },
 "nbformat": 4,
 "nbformat_minor": 5
}
