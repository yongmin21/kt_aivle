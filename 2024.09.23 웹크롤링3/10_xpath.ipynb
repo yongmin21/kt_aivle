{
 "cells": [
  {
   "cell_type": "markdown",
   "id": "1f47dd12",
   "metadata": {},
   "source": [
    "### xpath\n",
    "- html element 선택하는 방법\n",
    "- scrapy 에서는 기본적으로 xpath를 사용\n",
    "- syntax\n",
    "    - // : 최상위 엘리먼트\n",
    "    - \\* : 모든 하위 엘리먼트 : css selector의 한칸띄우기와 같다.\n",
    "    - [@id=\"value\"] : 속성값 선택\n",
    "    - / : 한단계 하위 엘리먼트 : css selector의 >와 같다.\n",
    "    - [n] : nth-child(n)"
   ]
  }
 ],
 "metadata": {
  "kernelspec": {
   "display_name": "Python 3 (ipykernel)",
   "language": "python",
   "name": "python3"
  },
  "language_info": {
   "codemirror_mode": {
    "name": "ipython",
    "version": 3
   },
   "file_extension": ".py",
   "mimetype": "text/x-python",
   "name": "python",
   "nbconvert_exporter": "python",
   "pygments_lexer": "ipython3",
   "version": "3.11.3"
  },
  "toc": {
   "base_numbering": 1,
   "nav_menu": {},
   "number_sections": false,
   "sideBar": true,
   "skip_h1_title": false,
   "title_cell": "Table of Contents",
   "title_sidebar": "Contents",
   "toc_cell": false,
   "toc_position": {},
   "toc_section_display": true,
   "toc_window_display": false
  }
 },
 "nbformat": 4,
 "nbformat_minor": 5
}
