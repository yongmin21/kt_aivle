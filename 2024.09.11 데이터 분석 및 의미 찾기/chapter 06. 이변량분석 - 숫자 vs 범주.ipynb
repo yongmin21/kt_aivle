{
 "cells": [
  {
   "cell_type": "markdown",
   "metadata": {
    "id": "EnlYouStN0Le"
   },
   "source": [
    "# **이변량분석 - 숫자 vs 범주**"
   ]
  },
  {
   "cell_type": "markdown",
   "metadata": {
    "id": "0SJP-uYxN0Lk"
   },
   "source": [
    "## **1.환경준비**"
   ]
  },
  {
   "cell_type": "markdown",
   "metadata": {
    "id": "6dMK5CsEN0Lk"
   },
   "source": [
    "* 라이브러리 불러오기"
   ]
  },
  {
   "cell_type": "code",
   "execution_count": null,
   "metadata": {
    "executionInfo": {
     "elapsed": 3005,
     "status": "ok",
     "timestamp": 1674270908267,
     "user": {
      "displayName": "한기영",
      "userId": "13049187003176135487"
     },
     "user_tz": -540
    },
    "id": "Sma8Fku5N0Ll"
   },
   "outputs": [],
   "source": [
    "import pandas as pd\n",
    "import numpy as np\n",
    "import random as rd\n",
    "\n",
    "import matplotlib.pyplot as plt\n",
    "import seaborn as sns\n",
    "from statsmodels.graphics.mosaicplot import mosaic      #mosaic plot!\n",
    "\n",
    "import scipy.stats as spst"
   ]
  },
  {
   "cell_type": "markdown",
   "metadata": {
    "id": "NCpMWLagN0Ln"
   },
   "source": [
    "* 데이터 불러오기 : 다음의 예제 데이터를 사용합니다.\n",
    "> 타이타닉 생존자  \n"
   ]
  },
  {
   "cell_type": "code",
   "execution_count": null,
   "metadata": {
    "colab": {
     "base_uri": "https://localhost:8080/",
     "height": 206
    },
    "executionInfo": {
     "elapsed": 579,
     "status": "ok",
     "timestamp": 1674270908840,
     "user": {
      "displayName": "한기영",
      "userId": "13049187003176135487"
     },
     "user_tz": -540
    },
    "id": "si-trqDhN0Lo",
    "outputId": "15bb3792-ee03-4c39-b38e-1302cb5907c0"
   },
   "outputs": [],
   "source": [
    "# 타이타닉 데이터\n",
    "titanic = pd.read_csv('https://raw.githubusercontent.com/DA4BAM/dataset/master/titanic.1.csv')\n",
    "titanic.head()"
   ]
  },
  {
   "cell_type": "markdown",
   "metadata": {
    "id": "Cmbwcag9t-GY"
   },
   "source": [
    "## **2.숫자 --> 범주**"
   ]
  },
  {
   "cell_type": "markdown",
   "metadata": {
    "id": "lmiVr9fBuA-8"
   },
   "source": [
    "### **(1) 시각화**"
   ]
  },
  {
   "cell_type": "markdown",
   "metadata": {
    "id": "ngCbCBcN7c_X"
   },
   "source": [
    "* 히스토그램을 Survived로 나눠서 그려봅시다."
   ]
  },
  {
   "cell_type": "code",
   "execution_count": null,
   "metadata": {
    "colab": {
     "base_uri": "https://localhost:8080/",
     "height": 282
    },
    "executionInfo": {
     "elapsed": 441,
     "status": "ok",
     "timestamp": 1674106582502,
     "user": {
      "displayName": "한기영",
      "userId": "13049187003176135487"
     },
     "user_tz": -540
    },
    "id": "0qgc0U-l5YP3",
    "outputId": "f6880328-b727-4980-8b09-97a7ae7ae6ec"
   },
   "outputs": [],
   "source": [
    "sns.histplot(x='Age', data = titanic, hue = 'Survived')\n",
    "plt.show()"
   ]
  },
  {
   "cell_type": "markdown",
   "metadata": {
    "id": "jY7SgTWC7fXE"
   },
   "source": [
    "* kdeplot을 그려봅시다.  \n",
    "* 두가지 방법이 있습니다.\n",
    "    * ① kdeplot(   , hue = 'Survived') \n",
    "        * 생존여부의 비율이 유지된 채로 그려짐\n",
    "        * 두 그래프의 아래 면적의 합이 1\n",
    "    * ② kdeplot(   , hue = 'Survived', common_norm = False)\n",
    "        * 생존여부 각각 아래 면적의 합이 1인 그래프\n",
    "    * ③ kdeplot(   , hue = 'Survived', multiple = 'fill')\n",
    "        * 나이에 따라 생존여부 **비율**을 비교해볼 수 있음. (양의 비교가 아닌 비율!)\n"
   ]
  },
  {
   "cell_type": "markdown",
   "metadata": {
    "id": "4h5xv_bSzBCI"
   },
   "source": [
    "① kdeplot( , hue = 'Survived)\n",
    "\n",
    "* common_norm = True (기본값)"
   ]
  },
  {
   "cell_type": "code",
   "execution_count": null,
   "metadata": {
    "colab": {
     "base_uri": "https://localhost:8080/",
     "height": 279
    },
    "executionInfo": {
     "elapsed": 504,
     "status": "ok",
     "timestamp": 1674106641927,
     "user": {
      "displayName": "한기영",
      "userId": "13049187003176135487"
     },
     "user_tz": -540
    },
    "id": "offVzz3k6p1F",
    "outputId": "58155048-a885-4032-a0af-535007117430"
   },
   "outputs": [],
   "source": [
    "sns.kdeplot(x='Age', data = titanic, hue ='Survived')\n",
    "plt.show()"
   ]
  },
  {
   "cell_type": "markdown",
   "metadata": {
    "id": "UNo9bLGizDYl"
   },
   "source": [
    "② kdeplot( , hue = 'Survived, common_norm = False)"
   ]
  },
  {
   "cell_type": "code",
   "execution_count": null,
   "metadata": {
    "colab": {
     "base_uri": "https://localhost:8080/",
     "height": 279
    },
    "executionInfo": {
     "elapsed": 6,
     "status": "ok",
     "timestamp": 1674106728617,
     "user": {
      "displayName": "한기영",
      "userId": "13049187003176135487"
     },
     "user_tz": -540
    },
    "id": "v-n4uisv6AvT",
    "outputId": "503a23ef-9e83-4a52-af45-44afaa6575b2"
   },
   "outputs": [],
   "source": [
    "sns.kdeplot(x='Age', data = titanic, hue ='Survived', \n",
    "            common_norm = False)\n",
    "plt.show()"
   ]
  },
  {
   "cell_type": "markdown",
   "metadata": {
    "id": "kcJ48P8iQ1uG"
   },
   "source": [
    "③ multiple = 'fill' 옵션"
   ]
  },
  {
   "cell_type": "code",
   "execution_count": null,
   "metadata": {
    "colab": {
     "base_uri": "https://localhost:8080/",
     "height": 283
    },
    "executionInfo": {
     "elapsed": 552,
     "status": "ok",
     "timestamp": 1674107478404,
     "user": {
      "displayName": "한기영",
      "userId": "13049187003176135487"
     },
     "user_tz": -540
    },
    "id": "d1O8WLqGQfMu",
    "outputId": "9fdf404b-4ee5-4511-f879-12986d1521af"
   },
   "outputs": [],
   "source": [
    "sns.kdeplot(x='Age', data = titanic, hue ='Survived'\n",
    "            , multiple = 'fill')\n",
    "plt.axhline(titanic['Survived'].mean(), color = 'r')\n",
    "plt.show()"
   ]
  },
  {
   "cell_type": "code",
   "execution_count": null,
   "metadata": {
    "colab": {
     "base_uri": "https://localhost:8080/",
     "height": 283
    },
    "executionInfo": {
     "elapsed": 714,
     "status": "ok",
     "timestamp": 1674107488682,
     "user": {
      "displayName": "한기영",
      "userId": "13049187003176135487"
     },
     "user_tz": -540
    },
    "id": "eFzX2vHbQ1uH",
    "outputId": "14922fc1-0c95-4136-ffcd-d7223402035b"
   },
   "outputs": [],
   "source": [
    "sns.histplot(x='Age', data = titanic, bins = 16\n",
    "             , hue ='Survived', multiple = 'fill')\n",
    "plt.axhline(titanic['Survived'].mean(), color = 'r')\n",
    "plt.show()"
   ]
  },
  {
   "cell_type": "markdown",
   "metadata": {
    "id": "yJ8u1SVG5n1y"
   },
   "source": [
    "<img src='https://raw.githubusercontent.com/jangrae/img/master/practice_01.png' width=120 align=\"left\"/>"
   ]
  },
  {
   "cell_type": "markdown",
   "metadata": {
    "id": "eGCVE-cM5n1y"
   },
   "source": [
    "다음의 관계에 대해 시각화 해 봅시다."
   ]
  },
  {
   "cell_type": "markdown",
   "metadata": {
    "id": "zJPBDrxL5n1z"
   },
   "source": [
    "* [문1] Fare(운임) --> Survived"
   ]
  },
  {
   "cell_type": "code",
   "execution_count": null,
   "metadata": {},
   "outputs": [],
   "source": []
  },
  {
   "cell_type": "code",
   "execution_count": null,
   "metadata": {},
   "outputs": [],
   "source": []
  },
  {
   "cell_type": "code",
   "execution_count": null,
   "metadata": {},
   "outputs": [],
   "source": []
  },
  {
   "cell_type": "code",
   "execution_count": null,
   "metadata": {},
   "outputs": [],
   "source": []
  }
 ],
 "metadata": {
  "colab": {
   "provenance": [],
   "toc_visible": true
  },
  "kernelspec": {
   "display_name": "Python 3 (ipykernel)",
   "language": "python",
   "name": "python3"
  },
  "language_info": {
   "codemirror_mode": {
    "name": "ipython",
    "version": 3
   },
   "file_extension": ".py",
   "mimetype": "text/x-python",
   "name": "python",
   "nbconvert_exporter": "python",
   "pygments_lexer": "ipython3",
   "version": "3.9.13"
  }
 },
 "nbformat": 4,
 "nbformat_minor": 4
}
