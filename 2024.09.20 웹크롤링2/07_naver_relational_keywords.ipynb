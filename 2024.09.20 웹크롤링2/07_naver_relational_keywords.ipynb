{
 "cells": [
  {
   "cell_type": "markdown",
   "id": "2f46af77",
   "metadata": {},
   "source": [
    "### 네이버 함께 많이 찾는 주제어 수집\n",
    "- 정적(static) 웹페이지 데이터 수집 \n",
    "- BeautifulSoup을 이용하여 HTML 문자열 데이터 parsing"
   ]
  },
  {
   "cell_type": "code",
   "execution_count": 1,
   "id": "2e043e9f",
   "metadata": {},
   "outputs": [],
   "source": [
    "import pandas as pd\n",
    "import requests\n",
    "from bs4 import BeautifulSoup"
   ]
  },
  {
   "cell_type": "markdown",
   "id": "16030538",
   "metadata": {},
   "source": [
    "#### 1. 웹페이지 분석 : URL"
   ]
  },
  {
   "cell_type": "code",
   "execution_count": 2,
   "id": "c1581d54",
   "metadata": {},
   "outputs": [],
   "source": [
    "url = \"https://search.naver.com/search.naver?query=삼성전자\""
   ]
  },
  {
   "cell_type": "markdown",
   "id": "56e6ea93",
   "metadata": {},
   "source": [
    "#### 2. request(URL) > response : str(html)"
   ]
  },
  {
   "cell_type": "code",
   "execution_count": 3,
   "id": "ceda1c7b",
   "metadata": {},
   "outputs": [
    {
     "data": {
      "text/plain": [
       "<Response [200]>"
      ]
     },
     "execution_count": 3,
     "metadata": {},
     "output_type": "execute_result"
    }
   ],
   "source": [
    "response = requests.get(url)\n",
    "response"
   ]
  },
  {
   "cell_type": "code",
   "execution_count": 7,
   "id": "2faaf8c0",
   "metadata": {},
   "outputs": [
    {
     "data": {
      "text/plain": [
       "'<!doctype html> <html lang=\"ko\"><head> <meta charset=\"utf-8\"> <meta name=\"referrer\" content=\"always\">  <meta name=\"format-detection\" content=\"telephone=no,address=no,email=no\"> <meta property=\"og:title\" content=\"삼성전자 : 네이버 검색\"/> <meta property=\"og:image\" content=\"https://ssl.pstatic.net/sstatic/sear'"
      ]
     },
     "execution_count": 7,
     "metadata": {},
     "output_type": "execute_result"
    }
   ],
   "source": [
    "response.text[:300]"
   ]
  },
  {
   "cell_type": "markdown",
   "id": "1e2acb8e",
   "metadata": {},
   "source": [
    "#### 3. str(html) > bs object"
   ]
  },
  {
   "cell_type": "code",
   "execution_count": 8,
   "id": "8736bc68",
   "metadata": {},
   "outputs": [
    {
     "data": {
      "text/plain": [
       "bs4.BeautifulSoup"
      ]
     },
     "execution_count": 8,
     "metadata": {},
     "output_type": "execute_result"
    }
   ],
   "source": [
    "dom = BeautifulSoup(response.text, 'html.parser')\n",
    "type(dom)"
   ]
  },
  {
   "cell_type": "markdown",
   "id": "252cf193",
   "metadata": {},
   "source": [
    "#### 4. bs object > .select(css-selector), .select_one(css-selector) > str(text)"
   ]
  },
  {
   "cell_type": "code",
   "execution_count": 13,
   "id": "525c3274",
   "metadata": {},
   "outputs": [
    {
     "data": {
      "text/plain": [
       "(6,\n",
       " [<span class=\"fds-keyword-text EC6qOsUFAOwAI0C5oRtw\">삼성전자주가</span>,\n",
       "  <span class=\"fds-keyword-text EC6qOsUFAOwAI0C5oRtw\">오늘 삼성전자 주가</span>,\n",
       "  <span class=\"fds-keyword-text EC6qOsUFAOwAI0C5oRtw\">삼성전자주식가격</span>,\n",
       "  <span class=\"fds-keyword-text EC6qOsUFAOwAI0C5oRtw\">삼성전자 주식</span>,\n",
       "  <span class=\"fds-keyword-text EC6qOsUFAOwAI0C5oRtw\">삼성전자 주가 전망</span>,\n",
       "  <span class=\"fds-keyword-text EC6qOsUFAOwAI0C5oRtw\">삼성전자주식전망</span>])"
      ]
     },
     "execution_count": 13,
     "metadata": {},
     "output_type": "execute_result"
    }
   ],
   "source": [
    "# select > list(Tag1, Tag2, ...), select_one > Tag\n",
    "#fdr-53bf315101004d2ea860c7d9458c5c73 > div > div > div.bAUlEC095ho5bG7U0km1.fds-grid-layout-keyword.fds-refine-query-grid > div:nth-child(1) > div:nth-child(1) > a\n",
    "# id > div > div > div이면서.class.class들을 포함 > 1번째중에 div면 선택\n",
    "# 실제로는 길게 쓰지 않아도 됨\n",
    "css_selector = \".fds-refine-query-grid span\" # 하위 span을 모두 찾아준다.\n",
    "elements = dom.select(css_selector)\n",
    "len(elements), elements"
   ]
  },
  {
   "cell_type": "markdown",
   "id": "1e9ebdd4",
   "metadata": {},
   "source": [
    "#### 5. str(text) > DataFrame"
   ]
  },
  {
   "cell_type": "code",
   "execution_count": 17,
   "id": "62e1ef05",
   "metadata": {},
   "outputs": [
    {
     "data": {
      "text/plain": [
       "'삼성전자주가'"
      ]
     },
     "execution_count": 17,
     "metadata": {},
     "output_type": "execute_result"
    }
   ],
   "source": [
    "elements[0].text"
   ]
  },
  {
   "cell_type": "code",
   "execution_count": 18,
   "id": "e740026d",
   "metadata": {},
   "outputs": [
    {
     "data": {
      "text/plain": [
       "['삼성전자주가', '오늘 삼성전자 주가', '삼성전자주식가격', '삼성전자 주식', '삼성전자 주가 전망', '삼성전자주식전망']"
      ]
     },
     "execution_count": 18,
     "metadata": {},
     "output_type": "execute_result"
    }
   ],
   "source": [
    "[element.text for element in elements]"
   ]
  },
  {
   "cell_type": "code",
   "execution_count": 24,
   "id": "f5715d89",
   "metadata": {},
   "outputs": [],
   "source": [
    "# 6. function\n",
    "\n",
    "def find_relational_text(keyword):\n",
    "    url = f\"https://search.naver.com/search.naver?query={keyword}\"\n",
    "    \n",
    "    response = requests.get(url)\n",
    "    dom = BeautifulSoup(response.text, 'html.parser')\n",
    "    \n",
    "    css_selector = \".fds-refine-query-grid span\" # 하위 span을 모두 찾아준다.\n",
    "    elements = dom.select(css_selector)\n",
    "    \n",
    "    return [element.text for element in elements]"
   ]
  },
  {
   "cell_type": "code",
   "execution_count": 25,
   "id": "fa433be6",
   "metadata": {},
   "outputs": [
    {
     "data": {
      "text/plain": [
       "['엔비디아주가',\n",
       " '엔비디아 실적발표 시간',\n",
       " '엔비디아 실적발표',\n",
       " '엔비디아 주가 전망',\n",
       " '엔비디아 실적발표 한국시간',\n",
       " '엔비디아 실적']"
      ]
     },
     "execution_count": 25,
     "metadata": {},
     "output_type": "execute_result"
    }
   ],
   "source": [
    "find_relational_text(\"엔비디아\")"
   ]
  },
  {
   "cell_type": "code",
   "execution_count": 28,
   "id": "62d63f4d",
   "metadata": {},
   "outputs": [
    {
     "data": {
      "text/plain": [
       "['sk엔카 중고차',\n",
       " 'SK하이닉스 주가',\n",
       " 'sk이노베이션 매수청구권',\n",
       " 'SK텔레콤 주가',\n",
       " 'sk브로드밴드 인터넷',\n",
       " 'sk엔카 직영몰']"
      ]
     },
     "execution_count": 28,
     "metadata": {},
     "output_type": "execute_result"
    }
   ],
   "source": [
    "find_relational_text(\"SK\")"
   ]
  },
  {
   "cell_type": "code",
   "execution_count": null,
   "id": "7fec4632",
   "metadata": {},
   "outputs": [],
   "source": [
    "# daum exchange : headers (forbidden 되었을 때 header를 추가)\n",
    "# naver restapi : application 등록 > key 입력 (찝찝하다면 api를 사용)\n",
    "# zigbang : request > response : 여러번 (데이터를 한번에 가져올 수 없었음, 복잡한 형태)\n",
    "# static page crawling : html > BeautifulSoup > css-selector (naver relational text)"
   ]
  }
 ],
 "metadata": {
  "kernelspec": {
   "display_name": "Python 3 (ipykernel)",
   "language": "python",
   "name": "python3"
  },
  "language_info": {
   "codemirror_mode": {
    "name": "ipython",
    "version": 3
   },
   "file_extension": ".py",
   "mimetype": "text/x-python",
   "name": "python",
   "nbconvert_exporter": "python",
   "pygments_lexer": "ipython3",
   "version": "3.12.4"
  },
  "toc": {
   "base_numbering": 1,
   "nav_menu": {},
   "number_sections": false,
   "sideBar": true,
   "skip_h1_title": false,
   "title_cell": "Table of Contents",
   "title_sidebar": "Contents",
   "toc_cell": false,
   "toc_position": {},
   "toc_section_display": true,
   "toc_window_display": false
  }
 },
 "nbformat": 4,
 "nbformat_minor": 5
}
