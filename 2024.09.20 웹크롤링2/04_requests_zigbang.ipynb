{
 "cells": [
  {
   "cell_type": "markdown",
   "id": "democratic-utility",
   "metadata": {},
   "source": [
    "### Zigbang 원룸 매물 데이터 수집"
   ]
  },
  {
   "cell_type": "code",
   "execution_count": 1,
   "id": "9affefe3",
   "metadata": {},
   "outputs": [],
   "source": [
    "import requests\n",
    "import pandas as pd"
   ]
  },
  {
   "cell_type": "markdown",
   "id": "whole-answer",
   "metadata": {},
   "source": [
    "#### Process\n",
    "\n",
    "- 동이름으로 위도 경도 구하기  \n",
    "- 위도 경도로 geohash 알아내기  \n",
    "- geohash로 매물 아이디 가져오기  \n",
    "- 매물 아이디로 매물 정보 가져오기  "
   ]
  },
  {
   "cell_type": "markdown",
   "id": "b98f0c6c",
   "metadata": {},
   "source": [
    "#### 1. 동이름으로 위도 경도 구하기"
   ]
  },
  {
   "cell_type": "code",
   "execution_count": 42,
   "id": "4e8d14a3",
   "metadata": {},
   "outputs": [
    {
     "data": {
      "text/plain": [
       "<Response [200]>"
      ]
     },
     "execution_count": 42,
     "metadata": {},
     "output_type": "execute_result"
    }
   ],
   "source": [
    "addr = '성내동'\n",
    "url = f'https://apis.zigbang.com/v2/search?leaseYn=N&q={addr}&serviceType=원룸'\n",
    "\n",
    "response = requests.get(url)\n",
    "response"
   ]
  },
  {
   "cell_type": "code",
   "execution_count": 10,
   "id": "fabae4e3",
   "metadata": {},
   "outputs": [
    {
     "data": {
      "text/plain": [
       "(37.529273986816406, 127.1300277709961)"
      ]
     },
     "execution_count": 10,
     "metadata": {},
     "output_type": "execute_result"
    }
   ],
   "source": [
    "data = response.json()['items'][5]\n",
    "lat, lon = data['lat'], data['lng']\n",
    "lat, lon"
   ]
  },
  {
   "cell_type": "markdown",
   "id": "8dfada31",
   "metadata": {},
   "source": [
    "#### 2. 위도 경도로 geohash 알아내기"
   ]
  },
  {
   "cell_type": "code",
   "execution_count": 11,
   "id": "1d270ab4",
   "metadata": {},
   "outputs": [],
   "source": [
    "!pip install geohash2 --quiet"
   ]
  },
  {
   "cell_type": "code",
   "execution_count": 12,
   "id": "093ede75",
   "metadata": {},
   "outputs": [],
   "source": [
    "import geohash2"
   ]
  },
  {
   "cell_type": "code",
   "execution_count": 15,
   "id": "2a757e5e",
   "metadata": {},
   "outputs": [
    {
     "data": {
      "text/plain": [
       "'wydmk'"
      ]
     },
     "execution_count": 15,
     "metadata": {},
     "output_type": "execute_result"
    }
   ],
   "source": [
    "geohash = geohash2.encode(lat, lon, precision=5) # precision이 높아질수록 작은 영역에 대한 geohash값을 알려줌. (고해상도)\n",
    "geohash"
   ]
  },
  {
   "cell_type": "markdown",
   "id": "13e8b3f9",
   "metadata": {},
   "source": [
    "#### 3. geohash로 매물 아이디 가져오기"
   ]
  },
  {
   "cell_type": "code",
   "execution_count": 16,
   "id": "2ceb8ea4",
   "metadata": {},
   "outputs": [
    {
     "data": {
      "text/plain": [
       "<Response [200]>"
      ]
     },
     "execution_count": 16,
     "metadata": {},
     "output_type": "execute_result"
    }
   ],
   "source": [
    "url = f'https://apis.zigbang.com/v2/items/oneroom?\\\n",
    "geohash={geohash}&depositMin=0&rentMin=0&salesTypes[0]=전세&salesTypes[1]=월세&domain=zigbang&checkAnyItemWithoutFilter=true'\n",
    "\n",
    "response = requests.get(url)\n",
    "response"
   ]
  },
  {
   "cell_type": "code",
   "execution_count": 20,
   "id": "13c80361",
   "metadata": {},
   "outputs": [
    {
     "data": {
      "text/plain": [
       "(1209, [42195372, 42213938, 42132177, 42193550, 42234254])"
      ]
     },
     "execution_count": 20,
     "metadata": {},
     "output_type": "execute_result"
    }
   ],
   "source": [
    "item_ids = [data['itemId'] for data in response.json()['items']]\n",
    "len(item_ids), item_ids[:5]"
   ]
  },
  {
   "cell_type": "markdown",
   "id": "85225aae",
   "metadata": {},
   "source": [
    "#### 4. 매물 아이디로 매물 정보 가져오기"
   ]
  },
  {
   "cell_type": "code",
   "execution_count": 28,
   "id": "0212d892",
   "metadata": {},
   "outputs": [
    {
     "data": {
      "text/plain": [
       "<Response [200]>"
      ]
     },
     "execution_count": 28,
     "metadata": {},
     "output_type": "execute_result"
    }
   ],
   "source": [
    "# 999개까지만 가져와진다.\n",
    "url = 'https://apis.zigbang.com/v2/items/list'\n",
    "\n",
    "params = {\n",
    "    'doamin': 'zigbang',\n",
    "    'item_ids': item_ids[:900]\n",
    "}\n",
    "\n",
    "response = requests.post(url, data=params)\n",
    "response"
   ]
  },
  {
   "cell_type": "code",
   "execution_count": 29,
   "id": "aef7f557",
   "metadata": {},
   "outputs": [
    {
     "data": {
      "text/html": [
       "<div>\n",
       "<style scoped>\n",
       "    .dataframe tbody tr th:only-of-type {\n",
       "        vertical-align: middle;\n",
       "    }\n",
       "\n",
       "    .dataframe tbody tr th {\n",
       "        vertical-align: top;\n",
       "    }\n",
       "\n",
       "    .dataframe thead th {\n",
       "        text-align: right;\n",
       "    }\n",
       "</style>\n",
       "<table border=\"1\" class=\"dataframe\">\n",
       "  <thead>\n",
       "    <tr style=\"text-align: right;\">\n",
       "      <th></th>\n",
       "      <th>item_id</th>\n",
       "      <th>sales_title</th>\n",
       "      <th>deposit</th>\n",
       "      <th>rent</th>\n",
       "      <th>size_m2</th>\n",
       "      <th>floor</th>\n",
       "      <th>building_floor</th>\n",
       "      <th>title</th>\n",
       "      <th>manage_cost</th>\n",
       "      <th>address1</th>\n",
       "    </tr>\n",
       "  </thead>\n",
       "  <tbody>\n",
       "    <tr>\n",
       "      <th>898</th>\n",
       "      <td>42126262</td>\n",
       "      <td>월세</td>\n",
       "      <td>2000</td>\n",
       "      <td>170</td>\n",
       "      <td>43.76</td>\n",
       "      <td>7</td>\n",
       "      <td>17</td>\n",
       "      <td>사업자 빠른입주가능 1년차 신축</td>\n",
       "      <td>15</td>\n",
       "      <td>서울시 송파구 방이동</td>\n",
       "    </tr>\n",
       "    <tr>\n",
       "      <th>899</th>\n",
       "      <td>42165806</td>\n",
       "      <td>월세</td>\n",
       "      <td>3000</td>\n",
       "      <td>150</td>\n",
       "      <td>43.86</td>\n",
       "      <td>5</td>\n",
       "      <td>17</td>\n",
       "      <td>사업자OK 1.5룸 신축 고층 건조기 스타일러</td>\n",
       "      <td>9</td>\n",
       "      <td>서울시 송파구 방이동</td>\n",
       "    </tr>\n",
       "  </tbody>\n",
       "</table>\n",
       "</div>"
      ],
      "text/plain": [
       "      item_id sales_title  deposit  rent  size_m2 floor building_floor  \\\n",
       "898  42126262          월세     2000   170    43.76     7             17   \n",
       "899  42165806          월세     3000   150    43.86     5             17   \n",
       "\n",
       "                         title manage_cost     address1  \n",
       "898          사업자 빠른입주가능 1년차 신축          15  서울시 송파구 방이동  \n",
       "899  사업자OK 1.5룸 신축 고층 건조기 스타일러           9  서울시 송파구 방이동  "
      ]
     },
     "execution_count": 29,
     "metadata": {},
     "output_type": "execute_result"
    }
   ],
   "source": [
    "data = response.json()['items']\n",
    "df = pd.DataFrame(data)[['item_id', 'sales_title', 'deposit', 'rent', 'size_m2', 'floor', 'building_floor', 'title', 'manage_cost', 'address1']]\n",
    "df.tail(2)"
   ]
  },
  {
   "cell_type": "code",
   "execution_count": null,
   "id": "2295f353",
   "metadata": {},
   "outputs": [],
   "source": []
  },
  {
   "cell_type": "code",
   "execution_count": 44,
   "id": "f2033947",
   "metadata": {},
   "outputs": [],
   "source": [
    "# 5. function\n",
    "\n",
    "def get_address(addr):\n",
    "    url = f'https://apis.zigbang.com/v2/search?leaseYn=N&q={addr}&serviceType=원룸'\n",
    "\n",
    "    response = requests.get(url)\n",
    "    data = response.json()['items'][5] #서울시 강동구 성내동\n",
    "    return data['lat'], data['lng']\n",
    "\n",
    "def get_itemId(lat, lon):\n",
    "    # get itemId\n",
    "    geohash = geohash2.encode(lat, lon, precision=6) # precision이 높아질수록 작은 영역에 대한 geohash값을 알려줌. (고해상도)\n",
    "\n",
    "    url = f'https://apis.zigbang.com/v2/items/oneroom?geohash={geohash}&depositMin=0&rentMin=0&salesTypes[0]=전세&salesTypes[1]=월세&domain=zigbang&checkAnyItemWithoutFilter=true'\n",
    "    response = requests.get(url)\n",
    "    \n",
    "    return [data['itemId'] for data in response.json()['items']]\n",
    "    \n",
    "def get_data(item_ids):\n",
    "    # get data\n",
    "    url = 'https://apis.zigbang.com/v2/items/list'\n",
    "\n",
    "    params = {\n",
    "        'doamin': 'zigbang',\n",
    "        'item_ids': item_ids[:900]\n",
    "    }\n",
    "\n",
    "    response = requests.post(url, data=params)\n",
    "\n",
    "    data = response.json()['items']\n",
    "    return pd.DataFrame(data)[['item_id', 'sales_title', 'deposit', 'rent', 'size_m2', 'floor', 'building_floor', 'title', 'manage_cost', 'address1']]\n",
    "\n",
    "def crawling_zigbang(addr):\n",
    "    lat, lon = get_address(addr)\n",
    "    item_ids = get_itemId(lat, lon)\n",
    "    df = get_data(item_ids)\n",
    "    return df"
   ]
  },
  {
   "cell_type": "code",
   "execution_count": 45,
   "id": "1b3968c3",
   "metadata": {},
   "outputs": [
    {
     "data": {
      "text/html": [
       "<div>\n",
       "<style scoped>\n",
       "    .dataframe tbody tr th:only-of-type {\n",
       "        vertical-align: middle;\n",
       "    }\n",
       "\n",
       "    .dataframe tbody tr th {\n",
       "        vertical-align: top;\n",
       "    }\n",
       "\n",
       "    .dataframe thead th {\n",
       "        text-align: right;\n",
       "    }\n",
       "</style>\n",
       "<table border=\"1\" class=\"dataframe\">\n",
       "  <thead>\n",
       "    <tr style=\"text-align: right;\">\n",
       "      <th></th>\n",
       "      <th>item_id</th>\n",
       "      <th>sales_title</th>\n",
       "      <th>deposit</th>\n",
       "      <th>rent</th>\n",
       "      <th>size_m2</th>\n",
       "      <th>floor</th>\n",
       "      <th>building_floor</th>\n",
       "      <th>title</th>\n",
       "      <th>manage_cost</th>\n",
       "      <th>address1</th>\n",
       "    </tr>\n",
       "  </thead>\n",
       "  <tbody>\n",
       "    <tr>\n",
       "      <th>48</th>\n",
       "      <td>41713863</td>\n",
       "      <td>월세</td>\n",
       "      <td>2000</td>\n",
       "      <td>55</td>\n",
       "      <td>25.00</td>\n",
       "      <td>2</td>\n",
       "      <td>5</td>\n",
       "      <td>초역세권 둔촌동역 5분, 신축 원룸, 풀옵션, 초가성비 매물</td>\n",
       "      <td>7</td>\n",
       "      <td>서울시 강동구 성내동</td>\n",
       "    </tr>\n",
       "    <tr>\n",
       "      <th>49</th>\n",
       "      <td>42118309</td>\n",
       "      <td>월세</td>\n",
       "      <td>3000</td>\n",
       "      <td>50</td>\n",
       "      <td>19.83</td>\n",
       "      <td>2</td>\n",
       "      <td>5</td>\n",
       "      <td>V둔촌동역도보5분V신축급입주풀옵션원룸V최상의룸컨디션V</td>\n",
       "      <td>7</td>\n",
       "      <td>서울시 강동구 성내동</td>\n",
       "    </tr>\n",
       "    <tr>\n",
       "      <th>50</th>\n",
       "      <td>42170911</td>\n",
       "      <td>월세</td>\n",
       "      <td>2000</td>\n",
       "      <td>55</td>\n",
       "      <td>17.90</td>\n",
       "      <td>2</td>\n",
       "      <td>5</td>\n",
       "      <td>신축깨끗한 풀옵션원룸.내부깨끗하고 수납좋음 둔촌역가까워요</td>\n",
       "      <td>7</td>\n",
       "      <td>서울시 강동구 성내동</td>\n",
       "    </tr>\n",
       "    <tr>\n",
       "      <th>51</th>\n",
       "      <td>42177783</td>\n",
       "      <td>월세</td>\n",
       "      <td>3000</td>\n",
       "      <td>50</td>\n",
       "      <td>19.80</td>\n",
       "      <td>2</td>\n",
       "      <td>5</td>\n",
       "      <td>신축급 넓은 원룸 가성비굿</td>\n",
       "      <td>7</td>\n",
       "      <td>서울시 강동구 성내동</td>\n",
       "    </tr>\n",
       "    <tr>\n",
       "      <th>52</th>\n",
       "      <td>42232645</td>\n",
       "      <td>월세</td>\n",
       "      <td>3000</td>\n",
       "      <td>50</td>\n",
       "      <td>16.53</td>\n",
       "      <td>2</td>\n",
       "      <td>5</td>\n",
       "      <td>둔촌동역. 2년차신축. 풀옵션.</td>\n",
       "      <td>7</td>\n",
       "      <td>서울시 강동구 성내동</td>\n",
       "    </tr>\n",
       "  </tbody>\n",
       "</table>\n",
       "</div>"
      ],
      "text/plain": [
       "     item_id sales_title  deposit  rent  size_m2 floor building_floor  \\\n",
       "48  41713863          월세     2000    55    25.00     2              5   \n",
       "49  42118309          월세     3000    50    19.83     2              5   \n",
       "50  42170911          월세     2000    55    17.90     2              5   \n",
       "51  42177783          월세     3000    50    19.80     2              5   \n",
       "52  42232645          월세     3000    50    16.53     2              5   \n",
       "\n",
       "                                title manage_cost     address1  \n",
       "48  초역세권 둔촌동역 5분, 신축 원룸, 풀옵션, 초가성비 매물           7  서울시 강동구 성내동  \n",
       "49      V둔촌동역도보5분V신축급입주풀옵션원룸V최상의룸컨디션V           7  서울시 강동구 성내동  \n",
       "50    신축깨끗한 풀옵션원룸.내부깨끗하고 수납좋음 둔촌역가까워요           7  서울시 강동구 성내동  \n",
       "51                     신축급 넓은 원룸 가성비굿           7  서울시 강동구 성내동  \n",
       "52                  둔촌동역. 2년차신축. 풀옵션.           7  서울시 강동구 성내동  "
      ]
     },
     "execution_count": 45,
     "metadata": {},
     "output_type": "execute_result"
    }
   ],
   "source": [
    "df = crawling_zigbang(\"성내동\")\n",
    "df.tail(5)"
   ]
  },
  {
   "cell_type": "code",
   "execution_count": 46,
   "id": "8ee97e89",
   "metadata": {},
   "outputs": [
    {
     "data": {
      "text/html": [
       "<div>\n",
       "<style scoped>\n",
       "    .dataframe tbody tr th:only-of-type {\n",
       "        vertical-align: middle;\n",
       "    }\n",
       "\n",
       "    .dataframe tbody tr th {\n",
       "        vertical-align: top;\n",
       "    }\n",
       "\n",
       "    .dataframe thead th {\n",
       "        text-align: right;\n",
       "    }\n",
       "</style>\n",
       "<table border=\"1\" class=\"dataframe\">\n",
       "  <thead>\n",
       "    <tr style=\"text-align: right;\">\n",
       "      <th></th>\n",
       "      <th>item_id</th>\n",
       "      <th>sales_title</th>\n",
       "      <th>deposit</th>\n",
       "      <th>rent</th>\n",
       "      <th>size_m2</th>\n",
       "      <th>floor</th>\n",
       "      <th>building_floor</th>\n",
       "      <th>title</th>\n",
       "      <th>manage_cost</th>\n",
       "      <th>address1</th>\n",
       "    </tr>\n",
       "  </thead>\n",
       "  <tbody>\n",
       "    <tr>\n",
       "      <th>0</th>\n",
       "      <td>42032346</td>\n",
       "      <td>월세</td>\n",
       "      <td>5000</td>\n",
       "      <td>80</td>\n",
       "      <td>57.00</td>\n",
       "      <td>4</td>\n",
       "      <td>4</td>\n",
       "      <td>5층탑층 주인거주 올수리 깨끗한 투룸 지정주차</td>\n",
       "      <td>3</td>\n",
       "      <td>서울시 강동구 성내동</td>\n",
       "    </tr>\n",
       "    <tr>\n",
       "      <th>1</th>\n",
       "      <td>42172753</td>\n",
       "      <td>월세</td>\n",
       "      <td>300</td>\n",
       "      <td>25</td>\n",
       "      <td>13.22</td>\n",
       "      <td>5</td>\n",
       "      <td>5</td>\n",
       "      <td>잠만잘수있는 옥탑방</td>\n",
       "      <td>3</td>\n",
       "      <td>서울시 강동구 성내동</td>\n",
       "    </tr>\n",
       "    <tr>\n",
       "      <th>2</th>\n",
       "      <td>42216496</td>\n",
       "      <td>전세</td>\n",
       "      <td>30000</td>\n",
       "      <td>0</td>\n",
       "      <td>75.01</td>\n",
       "      <td>3</td>\n",
       "      <td>5</td>\n",
       "      <td>JYP엔터 인근, 올림픽공원 3분, 넓고 귀한 쓰리룸, 올수리 앤틱하우스.</td>\n",
       "      <td>3</td>\n",
       "      <td>서울시 강동구 성내동</td>\n",
       "    </tr>\n",
       "    <tr>\n",
       "      <th>3</th>\n",
       "      <td>42226308</td>\n",
       "      <td>전세</td>\n",
       "      <td>11000</td>\n",
       "      <td>0</td>\n",
       "      <td>39.67</td>\n",
       "      <td>반지하</td>\n",
       "      <td>3</td>\n",
       "      <td>LH, SH, HUG버팀목 가능. 올림픽공원 도보 3분.</td>\n",
       "      <td>5</td>\n",
       "      <td>서울시 강동구 성내동</td>\n",
       "    </tr>\n",
       "    <tr>\n",
       "      <th>4</th>\n",
       "      <td>42215154</td>\n",
       "      <td>전세</td>\n",
       "      <td>4000</td>\n",
       "      <td>0</td>\n",
       "      <td>30.00</td>\n",
       "      <td>반지하</td>\n",
       "      <td>3</td>\n",
       "      <td>둔촌동역 역세권 단독 바닥층 2룸 전세</td>\n",
       "      <td>0</td>\n",
       "      <td>서울시 강동구 성내동</td>\n",
       "    </tr>\n",
       "  </tbody>\n",
       "</table>\n",
       "</div>"
      ],
      "text/plain": [
       "    item_id sales_title  deposit  rent  size_m2 floor building_floor  \\\n",
       "0  42032346          월세     5000    80    57.00     4              4   \n",
       "1  42172753          월세      300    25    13.22     5              5   \n",
       "2  42216496          전세    30000     0    75.01     3              5   \n",
       "3  42226308          전세    11000     0    39.67   반지하              3   \n",
       "4  42215154          전세     4000     0    30.00   반지하              3   \n",
       "\n",
       "                                        title manage_cost     address1  \n",
       "0                   5층탑층 주인거주 올수리 깨끗한 투룸 지정주차           3  서울시 강동구 성내동  \n",
       "1                                  잠만잘수있는 옥탑방           3  서울시 강동구 성내동  \n",
       "2  JYP엔터 인근, 올림픽공원 3분, 넓고 귀한 쓰리룸, 올수리 앤틱하우스.            3  서울시 강동구 성내동  \n",
       "3             LH, SH, HUG버팀목 가능. 올림픽공원 도보 3분.           5  서울시 강동구 성내동  \n",
       "4                       둔촌동역 역세권 단독 바닥층 2룸 전세           0  서울시 강동구 성내동  "
      ]
     },
     "execution_count": 46,
     "metadata": {},
     "output_type": "execute_result"
    }
   ],
   "source": [
    "df.head(5)"
   ]
  },
  {
   "cell_type": "code",
   "execution_count": 47,
   "id": "1c7d1a87",
   "metadata": {},
   "outputs": [
    {
     "data": {
      "text/plain": [
       "array(['서울시 강동구 성내동'], dtype=object)"
      ]
     },
     "execution_count": 47,
     "metadata": {},
     "output_type": "execute_result"
    }
   ],
   "source": [
    "df['address1'].unique()"
   ]
  },
  {
   "cell_type": "code",
   "execution_count": 53,
   "id": "988c64d5",
   "metadata": {},
   "outputs": [
    {
     "data": {
      "text/plain": [
       "<PreparedRequest [GET]>"
      ]
     },
     "execution_count": 53,
     "metadata": {},
     "output_type": "execute_result"
    }
   ],
   "source": []
  },
  {
   "cell_type": "code",
   "execution_count": null,
   "id": "2bb534d0",
   "metadata": {},
   "outputs": [],
   "source": []
  }
 ],
 "metadata": {
  "kernelspec": {
   "display_name": "Python 3 (ipykernel)",
   "language": "python",
   "name": "python3"
  },
  "language_info": {
   "codemirror_mode": {
    "name": "ipython",
    "version": 3
   },
   "file_extension": ".py",
   "mimetype": "text/x-python",
   "name": "python",
   "nbconvert_exporter": "python",
   "pygments_lexer": "ipython3",
   "version": "3.12.4"
  },
  "toc": {
   "base_numbering": 1,
   "nav_menu": {},
   "number_sections": false,
   "sideBar": true,
   "skip_h1_title": false,
   "title_cell": "Table of Contents",
   "title_sidebar": "Contents",
   "toc_cell": false,
   "toc_position": {},
   "toc_section_display": true,
   "toc_window_display": false
  }
 },
 "nbformat": 4,
 "nbformat_minor": 5
}
