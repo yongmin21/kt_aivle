{
 "cells": [
  {
   "cell_type": "markdown",
   "id": "e60ed53e",
   "metadata": {},
   "source": [
    "## Iterator & Generator\n",
    "- iterable : 순서가 있는 데이터 집합\n",
    "- iterator : next 함수를 실행시켜서 값을 생성하는 값 생성기\n",
    "- generator : iterator를 간단하게 구현한 문법"
   ]
  },
  {
   "cell_type": "code",
   "execution_count": null,
   "id": "26c305dc",
   "metadata": {},
   "outputs": [],
   "source": [
    "# 이터레이터 만들기"
   ]
  },
  {
   "cell_type": "code",
   "execution_count": null,
   "id": "626692af-238c-436f-9c6c-a57311944f6f",
   "metadata": {},
   "outputs": [],
   "source": []
  },
  {
   "cell_type": "code",
   "execution_count": null,
   "id": "9b0561eb",
   "metadata": {},
   "outputs": [],
   "source": [
    "# 클래스로 이터레이터 만들기 : 피보나치 수열"
   ]
  },
  {
   "cell_type": "code",
   "execution_count": null,
   "id": "66ea3588-8e23-4346-8adc-9e87ef884226",
   "metadata": {},
   "outputs": [],
   "source": []
  },
  {
   "cell_type": "code",
   "execution_count": null,
   "id": "b32b9a6a",
   "metadata": {},
   "outputs": [],
   "source": [
    "# yield : 일반 함수를 제너레이터로 만들어주는 예약어"
   ]
  },
  {
   "cell_type": "code",
   "execution_count": null,
   "id": "04d49ddd-e060-44e9-a3d3-b6f297f946dd",
   "metadata": {},
   "outputs": [],
   "source": []
  }
 ],
 "metadata": {
  "kernelspec": {
   "display_name": "Python 3 (ipykernel)",
   "language": "python",
   "name": "python3"
  },
  "language_info": {
   "codemirror_mode": {
    "name": "ipython",
    "version": 3
   },
   "file_extension": ".py",
   "mimetype": "text/x-python",
   "name": "python",
   "nbconvert_exporter": "python",
   "pygments_lexer": "ipython3",
   "version": "3.11.3"
  },
  "toc": {
   "base_numbering": 1,
   "nav_menu": {},
   "number_sections": false,
   "sideBar": true,
   "skip_h1_title": false,
   "title_cell": "Table of Contents",
   "title_sidebar": "Contents",
   "toc_cell": false,
   "toc_position": {},
   "toc_section_display": true,
   "toc_window_display": false
  }
 },
 "nbformat": 4,
 "nbformat_minor": 5
}
