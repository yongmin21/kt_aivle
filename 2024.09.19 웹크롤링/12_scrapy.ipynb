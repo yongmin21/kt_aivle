{
 "cells": [
  {
   "cell_type": "markdown",
   "id": "b12537ef",
   "metadata": {
    "id": "b12537ef"
   },
   "source": [
    "# Scrapy\n",
    "- 웹사이트에서 데이터 수집을 위한 오픈소스 파이썬 프레임워크\n",
    "- 멀티스레딩으로 데이터 수집\n",
    "- gmarket 상품데이터 수집"
   ]
  },
  {
   "cell_type": "code",
   "execution_count": 1,
   "id": "c8df8471",
   "metadata": {
    "id": "c8df8471",
    "tags": []
   },
   "outputs": [],
   "source": [
    "# install scrapy\n",
    "#!pip install scrapy"
   ]
  },
  {
   "cell_type": "markdown",
   "id": "c0332cd8-37a0-4f19-9a84-e64a565827d6",
   "metadata": {
    "id": "e90ab90f"
   },
   "source": [
    "## 1. make project"
   ]
  },
  {
   "cell_type": "code",
   "execution_count": null,
   "id": "ecf9f5af-145d-428e-9840-ee627b1db8d3",
   "metadata": {},
   "outputs": [],
   "source": []
  },
  {
   "cell_type": "markdown",
   "id": "3ab608ad-302a-44bf-8f41-75fe6ff61be7",
   "metadata": {
    "id": "cac6776b",
    "tags": []
   },
   "source": [
    "- scrapy structure\n",
    "    - items : 데이터의 모양 정의\n",
    "    - middewares : 수집할때 header 정보와 같은 내용을 설정\n",
    "    - pipelines : 데이터를 수집한 후에 코드를 실행\n",
    "    - settings : robots.txt 규칙, 크롤링 시간 텀등을 설정\n",
    "    - spiders : 크롤링 절차를 정의"
   ]
  },
  {
   "cell_type": "markdown",
   "id": "8f2c2301-9562-46fe-aece-481dd73b88c9",
   "metadata": {
    "id": "5f97e6dc",
    "tags": []
   },
   "source": [
    "## 2. xpath\n",
    "- link, contents"
   ]
  },
  {
   "cell_type": "code",
   "execution_count": 5,
   "id": "3aac82cb",
   "metadata": {
    "id": "3aac82cb",
    "tags": []
   },
   "outputs": [],
   "source": [
    "import scrapy, requests\n",
    "from scrapy.http import TextResponse"
   ]
  },
  {
   "cell_type": "code",
   "execution_count": null,
   "id": "2e62e523-22eb-4ee2-8ef6-f7acc806f6a7",
   "metadata": {},
   "outputs": [],
   "source": []
  },
  {
   "cell_type": "markdown",
   "id": "a66594e9-822f-412b-b6ac-5e6d192d943a",
   "metadata": {},
   "source": [
    "## 3. items.py\n",
    "- Data Model"
   ]
  },
  {
   "cell_type": "code",
   "execution_count": null,
   "id": "da0a8805-28ee-4deb-9281-ecc84b0b68bb",
   "metadata": {},
   "outputs": [],
   "source": []
  },
  {
   "cell_type": "markdown",
   "id": "9a36c20c-a58d-4f60-8ed4-b13178e174d7",
   "metadata": {
    "id": "4d0aa7e1",
    "tags": []
   },
   "source": [
    "## 4. spider.py\n",
    "- wirte crawling process"
   ]
  },
  {
   "cell_type": "code",
   "execution_count": null,
   "id": "cdb3e0db-4ff6-4ec7-aa24-b8ae37feff18",
   "metadata": {},
   "outputs": [],
   "source": []
  },
  {
   "cell_type": "markdown",
   "id": "f62d4d2e-1978-4d8c-ac50-0ca52803c670",
   "metadata": {
    "id": "bd2e1c16",
    "tags": []
   },
   "source": [
    "## 5. run scrapy\n",
    "- news 디렉토리에서 아래의 커멘드 실행\n",
    "- scrapy crawl news -o news.csv"
   ]
  },
  {
   "cell_type": "code",
   "execution_count": null,
   "id": "8811644a-184c-46f7-b2f3-ceda17dac532",
   "metadata": {},
   "outputs": [],
   "source": []
  }
 ],
 "metadata": {
  "colab": {
   "name": "04_scrapy.ipynb",
   "provenance": []
  },
  "kernelspec": {
   "display_name": "Python 3 (ipykernel)",
   "language": "python",
   "name": "python3"
  },
  "language_info": {
   "codemirror_mode": {
    "name": "ipython",
    "version": 3
   },
   "file_extension": ".py",
   "mimetype": "text/x-python",
   "name": "python",
   "nbconvert_exporter": "python",
   "pygments_lexer": "ipython3",
   "version": "3.11.3"
  },
  "toc": {
   "base_numbering": 1,
   "nav_menu": {},
   "number_sections": false,
   "sideBar": true,
   "skip_h1_title": false,
   "title_cell": "Table of Contents",
   "title_sidebar": "Contents",
   "toc_cell": false,
   "toc_position": {},
   "toc_section_display": true,
   "toc_window_display": false
  }
 },
 "nbformat": 4,
 "nbformat_minor": 5
}
