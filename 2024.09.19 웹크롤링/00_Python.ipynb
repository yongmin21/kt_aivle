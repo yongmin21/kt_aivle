{
 "cells": [
  {
   "cell_type": "markdown",
   "metadata": {},
   "source": [
    "# Python  \n",
    "- 컴퓨터의 CPU, RAM, SSD를 활용하기 위해서 학습  \n",
    "1. 변수선언 : RAM 사용 문법 : 식별자(저장공간을 구분하는 문자열) : PEP20, PEP8(AutoPEP8; 코딩스타일 가이드, flake8; if-for문 적게 쓰도록 가이드) Python Enhencement Proposal  \n",
    "\n",
    "2. 데이터타입 : RAM 효율적 사용 문법 : int, float, bool, str, list, tuple, dict, set  \n",
    "\n",
    "3. 연산자 : CPU 사용 문법 : 산술, 비교, 논리, 할당, 멤버 ...  \n",
    "\n",
    "4. 조건문, 반복문 : 코드 효율적 사용 문법 : if, elif, else, for, while, break, continue, range(), ...  \n",
    "\n",
    "5. 함수 : 반복 사용되는 코드를 묶어서 코드 작성 실행 : def, return, scope(global), lambda, ...  \n",
    "\n",
    "6. 클래스 : 변수, 함수를 묶어서 코드 작성 실행, 객체지향 구현 : class, self, special methods(생성자), ...  \n",
    "\n",
    "7. 모듈 : 변수, 함수, 클래스를 파일로 묶어서 코드 작성 실행 : 확장자 .py  \n",
    "\n",
    "8. 패키지 : 여러개의 모듈을 디렉토리로 묶어서 관리 : 버전정보 : import, from, as  \n",
    "\n",
    "9. 입출력 : SSD 사용 문법 : RAM(object) > SSD(file), SSD(file) > RAM(object) : pickle"
   ]
  },
  {
   "cell_type": "code",
   "execution_count": 2,
   "metadata": {},
   "outputs": [
    {
     "name": "stdout",
     "output_type": "stream",
     "text": [
      "The Zen of Python, by Tim Peters\n",
      "\n",
      "Beautiful is better than ugly.\n",
      "Explicit is better than implicit.\n",
      "Simple is better than complex.\n",
      "Complex is better than complicated.\n",
      "Flat is better than nested.\n",
      "Sparse is better than dense.\n",
      "Readability counts.\n",
      "Special cases aren't special enough to break the rules.\n",
      "Although practicality beats purity.\n",
      "Errors should never pass silently.\n",
      "Unless explicitly silenced.\n",
      "In the face of ambiguity, refuse the temptation to guess.\n",
      "There should be one-- and preferably only one --obvious way to do it.\n",
      "Although that way may not be obvious at first unless you're Dutch.\n",
      "Now is better than never.\n",
      "Although never is often better than *right* now.\n",
      "If the implementation is hard to explain, it's a bad idea.\n",
      "If the implementation is easy to explain, it may be a good idea.\n",
      "Namespaces are one honking great idea -- let's do more of those!\n"
     ]
    }
   ],
   "source": [
    "# import this"
   ]
  },
  {
   "cell_type": "markdown",
   "metadata": {},
   "source": [
    "# Class\n",
    "- 변수, 함수를 묶어서 코드 작성 실행  \n",
    "- 객체지향 구현 : 실제 세계를 모델링하여 프로그램을 개발하는 개발 방법론 : 협업이 용이함  \n",
    "- 함수 사용 : 함수선언(코드작성) > 함수호출(코드실행)  \n",
    "- 클래스 사용  \n",
    "    - 클래스선언(코드작성; 설계도작성) > 객체생성(메모리사용; 제품생산) > 메서드실행(코드실행; 제품사용)\n",
    "    - 메서드 : 클래스안에 선언되는 함수  \n",
    "- class 식별자 : UpperCamelCase, PascalCase(O), snake_case(X:변수, 함수) "
   ]
  },
  {
   "cell_type": "code",
   "execution_count": 7,
   "metadata": {},
   "outputs": [],
   "source": [
    "# 1. 클래스선언 : 코드작성\n",
    "# 예금계좌 :  Account : balance, deposit(), withdraw()\n",
    "\n",
    "# self를 넣는 인스턴스 메서드\n",
    "\n",
    "class Account:\n",
    "    balance = 0\n",
    "    \n",
    "    def deposit(self, amount):\n",
    "        self.balance += amount\n",
    "        \n",
    "    def withdraw(self, amount):\n",
    "        self.balance -= amount"
   ]
  },
  {
   "cell_type": "code",
   "execution_count": 8,
   "metadata": {},
   "outputs": [],
   "source": [
    "# 2. 객체생성 : 메모리사용\n",
    "acc1 = Account()\n",
    "acc2 = Account()"
   ]
  },
  {
   "cell_type": "code",
   "execution_count": 10,
   "metadata": {},
   "outputs": [
    {
     "data": {
      "text/plain": [
       "(['balance', 'deposit', 'withdraw'], ['balance', 'deposit', 'withdraw'])"
      ]
     },
     "execution_count": 10,
     "metadata": {},
     "output_type": "execute_result"
    }
   ],
   "source": [
    "# dir() : 객체 안에 들어있는 변수, 함수 목록 출력\n",
    "dir(acc1)[-3:], dir(acc2)[-3:]"
   ]
  },
  {
   "cell_type": "code",
   "execution_count": 13,
   "metadata": {},
   "outputs": [],
   "source": [
    "acc1.balance = 1000"
   ]
  },
  {
   "cell_type": "code",
   "execution_count": 14,
   "metadata": {},
   "outputs": [
    {
     "data": {
      "text/plain": [
       "(1000, 0)"
      ]
     },
     "execution_count": 14,
     "metadata": {},
     "output_type": "execute_result"
    }
   ],
   "source": [
    "acc1.balance, acc2.balance"
   ]
  },
  {
   "cell_type": "code",
   "execution_count": 5,
   "metadata": {},
   "outputs": [],
   "source": [
    "# 3. 메서드실행 : 코드실행"
   ]
  },
  {
   "cell_type": "code",
   "execution_count": 15,
   "metadata": {},
   "outputs": [],
   "source": [
    "acc1.withdraw(600)\n",
    "acc2.deposit(3000)"
   ]
  },
  {
   "cell_type": "code",
   "execution_count": 16,
   "metadata": {},
   "outputs": [
    {
     "data": {
      "text/plain": [
       "(400, 3000)"
      ]
     },
     "execution_count": 16,
     "metadata": {},
     "output_type": "execute_result"
    }
   ],
   "source": [
    "acc1.balance, acc2.balance"
   ]
  },
  {
   "cell_type": "code",
   "execution_count": 20,
   "metadata": {},
   "outputs": [
    {
     "data": {
      "text/plain": [
       "id      123\n",
       "name    ABC\n",
       "dtype: object"
      ]
     },
     "execution_count": 20,
     "metadata": {},
     "output_type": "execute_result"
    }
   ],
   "source": [
    "# pandas DataFrame\n",
    "# 클래스선언(다른사람이 만듦) > 객체생성(사용1) > 메서드호출(사용2)\n",
    "\n",
    "# 1. 클래스선언 : 다른 사람이 만든 클래스 가져옴\n",
    "import pandas as pd\n",
    "\n",
    "# 2. 객체생성\n",
    "df = pd.DataFrame(\n",
    "    {'id': list('123'),\n",
    "     'name': list('ABC')}\n",
    "    )\n",
    "\n",
    "# 3. 메서드호출\n",
    "# dir(df)\n",
    "df.sum()"
   ]
  },
  {
   "cell_type": "code",
   "execution_count": 21,
   "metadata": {},
   "outputs": [],
   "source": [
    "# 변수와 함수는 둘 다 객체입니다.\n",
    "# 클래스는 사용자 정의 데이터타입 입니다."
   ]
  },
  {
   "cell_type": "code",
   "execution_count": 24,
   "metadata": {},
   "outputs": [
    {
     "name": "stdout",
     "output_type": "stream",
     "text": [
      "<class '__main__.Account'>\n"
     ]
    }
   ],
   "source": [
    "# acc 객체 클래스 : Account\n",
    "# acc 객체 데이터타입 : Account\n",
    "# -> 클래스는 데이터타입 입니다.\n",
    "# Account 클래스는 우리가 만듦 : 사용자 정의\n",
    "# -> 클래스는 사용자 정의 데이터타입 입니다.\n",
    "acc = Account()\n",
    "print(type(acc))"
   ]
  },
  {
   "cell_type": "code",
   "execution_count": 25,
   "metadata": {},
   "outputs": [
    {
     "data": {
      "text/plain": [
       "str"
      ]
     },
     "execution_count": 25,
     "metadata": {},
     "output_type": "execute_result"
    }
   ],
   "source": [
    "# data1 객체 데이터타입 : str\n",
    "# data1 객체 클래스 : str : upper(), lower(), join() 메서드\n",
    "# str은 python에서 미리 만든 데이터타입\n",
    "data1 = 'python'\n",
    "type(data1)"
   ]
  },
  {
   "cell_type": "code",
   "execution_count": 26,
   "metadata": {},
   "outputs": [
    {
     "data": {
      "text/plain": [
       "list"
      ]
     },
     "execution_count": 26,
     "metadata": {},
     "output_type": "execute_result"
    }
   ],
   "source": [
    "# data2 객체 데이터타입 : list\n",
    "# data2 객체 클래스 : list\n",
    "data2 = [1, 3, 2]\n",
    "type(data2)"
   ]
  },
  {
   "cell_type": "code",
   "execution_count": 28,
   "metadata": {},
   "outputs": [],
   "source": [
    "# 객체는 어떤 데이터타입(클래스)인지에 따라서 사용가능한 변수, 메서드가 달라진다."
   ]
  },
  {
   "cell_type": "code",
   "execution_count": 31,
   "metadata": {},
   "outputs": [],
   "source": [
    "%reset\n",
    "# 현재 선언된 변수 초기화"
   ]
  },
  {
   "cell_type": "code",
   "execution_count": 32,
   "metadata": {},
   "outputs": [
    {
     "name": "stdout",
     "output_type": "stream",
     "text": [
      "<class 'int'> <class 'function'>\n"
     ]
    }
   ],
   "source": [
    "# 변수, 함수는 둘다 객체입니다.\n",
    "data = 1\n",
    "def plus():\n",
    "    return 1 + 2\n",
    "\n",
    "print(type(data), type(plus))"
   ]
  },
  {
   "cell_type": "code",
   "execution_count": 33,
   "metadata": {},
   "outputs": [
    {
     "name": "stdout",
     "output_type": "stream",
     "text": [
      "Variable   Type        Data/Info\n",
      "--------------------------------\n",
      "data       int         1\n",
      "plus       function    <function plus at 0x000001A0B5E98400>\n"
     ]
    }
   ],
   "source": [
    "%whos\n",
    "# 현재 선언된 객체 목록 출력"
   ]
  },
  {
   "cell_type": "markdown",
   "metadata": {},
   "source": [
    "# special methods\n",
    "- 특별한 기능을 하는 메서드  \n",
    "- 앞뒤로 __가 붙은 메서드  \n",
    "- 대표적으로 생성자 메서드  "
   ]
  },
  {
   "cell_type": "code",
   "execution_count": 34,
   "metadata": {},
   "outputs": [],
   "source": [
    "#생성자 메서드 : __init__(self) \n",
    "# 특별한 기능 : 객체 생성시 실행되는 메서드 "
   ]
  },
  {
   "cell_type": "code",
   "execution_count": 35,
   "metadata": {},
   "outputs": [],
   "source": [
    "# 클래스선언\n",
    "class Account:        \n",
    "    def deposit(self, amount):\n",
    "        self.balance += amount\n",
    "        \n",
    "    def withdraw(self, amount):\n",
    "        self.balance -= amount"
   ]
  },
  {
   "cell_type": "code",
   "execution_count": 36,
   "metadata": {},
   "outputs": [],
   "source": [
    "#객체생성\n",
    "acc = Account()"
   ]
  },
  {
   "cell_type": "code",
   "execution_count": 37,
   "metadata": {},
   "outputs": [
    {
     "ename": "AttributeError",
     "evalue": "'Account' object has no attribute 'balance'",
     "output_type": "error",
     "traceback": [
      "\u001b[1;31m---------------------------------------------------------------------------\u001b[0m",
      "\u001b[1;31mAttributeError\u001b[0m                            Traceback (most recent call last)",
      "Cell \u001b[1;32mIn[37], line 2\u001b[0m\n\u001b[0;32m      1\u001b[0m \u001b[38;5;66;03m#메서드호출\u001b[39;00m\n\u001b[1;32m----> 2\u001b[0m acc\u001b[38;5;241m.\u001b[39mdeposit(\u001b[38;5;241m1000\u001b[39m)\n",
      "Cell \u001b[1;32mIn[35], line 4\u001b[0m, in \u001b[0;36mAccount.deposit\u001b[1;34m(self, amount)\u001b[0m\n\u001b[0;32m      3\u001b[0m \u001b[38;5;28;01mdef\u001b[39;00m \u001b[38;5;21mdeposit\u001b[39m(\u001b[38;5;28mself\u001b[39m, amount):\n\u001b[1;32m----> 4\u001b[0m     \u001b[38;5;28mself\u001b[39m\u001b[38;5;241m.\u001b[39mbalance \u001b[38;5;241m+\u001b[39m\u001b[38;5;241m=\u001b[39m amount\n",
      "\u001b[1;31mAttributeError\u001b[0m: 'Account' object has no attribute 'balance'"
     ]
    }
   ],
   "source": [
    "#메서드호출 : 불량품 생산\n",
    "acc.deposit(1000)"
   ]
  },
  {
   "cell_type": "code",
   "execution_count": 38,
   "metadata": {},
   "outputs": [],
   "source": [
    "# 클래스선언\n",
    "class Account:\n",
    "    # 생성자 메서드 : 메서드에서 사용되는 변수의 초기값 설정하는 용도 사용\n",
    "    def __init__(self, balance):\n",
    "        self.balance = balance\n",
    "                    \n",
    "    def deposit(self, amount):\n",
    "        self.balance += amount\n",
    "        \n",
    "    def withdraw(self, amount):\n",
    "        self.balance -= amount"
   ]
  },
  {
   "cell_type": "code",
   "execution_count": 41,
   "metadata": {},
   "outputs": [],
   "source": [
    "# 객체생성\n",
    "# __init__ (생성자메서드) 실행\n",
    "acc = Account(1000)"
   ]
  },
  {
   "cell_type": "code",
   "execution_count": 42,
   "metadata": {},
   "outputs": [],
   "source": [
    "#메서드호출 : 불량품 생산\n",
    "acc.deposit(1000)"
   ]
  },
  {
   "cell_type": "code",
   "execution_count": 43,
   "metadata": {},
   "outputs": [
    {
     "data": {
      "text/plain": [
       "2000"
      ]
     },
     "execution_count": 43,
     "metadata": {},
     "output_type": "execute_result"
    }
   ],
   "source": [
    "acc.balance"
   ]
  },
  {
   "cell_type": "code",
   "execution_count": 45,
   "metadata": {},
   "outputs": [],
   "source": [
    "# mangling(private variable), getter, setter 내용을 같이 알면 좋다."
   ]
  },
  {
   "cell_type": "code",
   "execution_count": 46,
   "metadata": {},
   "outputs": [],
   "source": [
    "d1, d2 = 1, 2\n",
    "d3, d4 = '3', '4'"
   ]
  },
  {
   "cell_type": "code",
   "execution_count": 47,
   "metadata": {},
   "outputs": [
    {
     "data": {
      "text/plain": [
       "(int, int, str, str)"
      ]
     },
     "execution_count": 47,
     "metadata": {},
     "output_type": "execute_result"
    }
   ],
   "source": [
    "type(d1), type(d2), type(d3), type(d4)"
   ]
  },
  {
   "cell_type": "code",
   "execution_count": 48,
   "metadata": {},
   "outputs": [
    {
     "data": {
      "text/plain": [
       "(3, '34')"
      ]
     },
     "execution_count": 48,
     "metadata": {},
     "output_type": "execute_result"
    }
   ],
   "source": [
    "# 데이터 타입이 다르면 같은 연산자라도 다르게 연산이 수행된다.\n",
    "d1 + d2, d3 + d4"
   ]
  },
  {
   "cell_type": "code",
   "execution_count": 51,
   "metadata": {},
   "outputs": [
    {
     "data": {
      "text/plain": [
       "3"
      ]
     },
     "execution_count": 51,
     "metadata": {},
     "output_type": "execute_result"
    }
   ],
   "source": [
    "# __add__ : + 연산자에 대한 코드 정의\n",
    "#dir(d1)\n",
    "d1.__add__(d2) # int 클래스의 __add__() 메서드를 호출"
   ]
  },
  {
   "cell_type": "code",
   "execution_count": 54,
   "metadata": {},
   "outputs": [
    {
     "data": {
      "text/plain": [
       "'34'"
      ]
     },
     "execution_count": 54,
     "metadata": {},
     "output_type": "execute_result"
    }
   ],
   "source": [
    "#dir(d3)\n",
    "d3.__add__(d4) # str 클래스의 __add__() 메서드 호출"
   ]
  },
  {
   "cell_type": "code",
   "execution_count": 60,
   "metadata": {},
   "outputs": [
    {
     "name": "stdout",
     "output_type": "stream",
     "text": [
      "Help on method-wrapper:\n",
      "\n",
      "__add__(value, /) unbound builtins.int method\n",
      "    Return self+value.\n",
      "\n"
     ]
    }
   ],
   "source": [
    "help(d1.__add__)"
   ]
  },
  {
   "cell_type": "code",
   "execution_count": 57,
   "metadata": {},
   "outputs": [
    {
     "name": "stdout",
     "output_type": "stream",
     "text": [
      "Help on method-wrapper:\n",
      "\n",
      "__add__(value, /) unbound builtins.str method\n",
      "    Return self+value.\n",
      "\n"
     ]
    }
   ],
   "source": [
    "help(d3.__add__)"
   ]
  },
  {
   "cell_type": "code",
   "execution_count": 63,
   "metadata": {},
   "outputs": [],
   "source": [
    "class Number:\n",
    "    def __init__(self, data):\n",
    "        self.data = data\n",
    "        \n",
    "    def __add__(self, obj):\n",
    "        self.data -= obj.data\n",
    "        return self.data"
   ]
  },
  {
   "cell_type": "code",
   "execution_count": 64,
   "metadata": {},
   "outputs": [],
   "source": [
    "num1 = Number(3)\n",
    "num2 = Number(2)"
   ]
  },
  {
   "cell_type": "code",
   "execution_count": 65,
   "metadata": {},
   "outputs": [
    {
     "data": {
      "text/plain": [
       "1"
      ]
     },
     "execution_count": 65,
     "metadata": {},
     "output_type": "execute_result"
    }
   ],
   "source": [
    "num1 + num2"
   ]
  },
  {
   "cell_type": "code",
   "execution_count": null,
   "metadata": {},
   "outputs": [],
   "source": []
  },
  {
   "cell_type": "code",
   "execution_count": null,
   "metadata": {},
   "outputs": [],
   "source": []
  },
  {
   "cell_type": "code",
   "execution_count": null,
   "metadata": {},
   "outputs": [],
   "source": []
  },
  {
   "cell_type": "code",
   "execution_count": null,
   "metadata": {},
   "outputs": [],
   "source": []
  }
 ],
 "metadata": {
  "kernelspec": {
   "display_name": "base",
   "language": "python",
   "name": "python3"
  },
  "language_info": {
   "codemirror_mode": {
    "name": "ipython",
    "version": 3
   },
   "file_extension": ".py",
   "mimetype": "text/x-python",
   "name": "python",
   "nbconvert_exporter": "python",
   "pygments_lexer": "ipython3",
   "version": "3.12.4"
  }
 },
 "nbformat": 4,
 "nbformat_minor": 2
}
